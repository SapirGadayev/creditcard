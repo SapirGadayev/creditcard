{
 "cells": [
  {
   "cell_type": "code",
   "execution_count": 1,
   "id": "6d91e14d",
   "metadata": {},
   "outputs": [],
   "source": [
    "import pandas as pd"
   ]
  },
  {
   "cell_type": "code",
   "execution_count": 2,
   "id": "e31325ab",
   "metadata": {},
   "outputs": [],
   "source": [
    "df = pd.read_csv('credit_card_approval.csv')"
   ]
  },
  {
   "cell_type": "code",
   "execution_count": 3,
   "id": "337bdecb",
   "metadata": {},
   "outputs": [
    {
     "data": {
      "text/plain": [
       "<bound method NDFrame.head of       TARGET       ID CODE_GENDER FLAG_OWN_CAR FLAG_OWN_REALTY CNT_CHILDREN  \\\n",
       "0          0  5065438           F            Y               N  2+ children   \n",
       "1          0  5142753           F            N               N  No children   \n",
       "2          0  5111146           M            Y               Y  No children   \n",
       "3          0  5010310           F            Y               Y   1 children   \n",
       "4          0  5010835           M            Y               Y  2+ children   \n",
       "...      ...      ...         ...          ...             ...          ...   \n",
       "2005       1  5125716           F            Y               Y  No children   \n",
       "2006       1  5079167           M            Y               N  No children   \n",
       "2007       1  5085886           M            Y               Y  No children   \n",
       "2008       1  5052661           F            N               Y  No children   \n",
       "2009       1  5112858           F            Y               N   1 children   \n",
       "\n",
       "      AMT_INCOME_TOTAL            NAME_EDUCATION_TYPE    NAME_FAMILY_STATUS  \\\n",
       "0             270000.0  Secondary / secondary special               Married   \n",
       "1              81000.0  Secondary / secondary special  Single / not married   \n",
       "2             270000.0               Higher education               Married   \n",
       "3             112500.0  Secondary / secondary special               Married   \n",
       "4             139500.0  Secondary / secondary special               Married   \n",
       "...                ...                            ...                   ...   \n",
       "2005          135000.0                Lower secondary               Married   \n",
       "2006          202500.0  Secondary / secondary special               Married   \n",
       "2007          315000.0               Higher education               Married   \n",
       "2008          103500.0  Secondary / secondary special               Married   \n",
       "2009          270000.0  Secondary / secondary special        Civil marriage   \n",
       "\n",
       "      NAME_HOUSING_TYPE  DAYS_BIRTH  DAYS_EMPLOYED  FLAG_MOBIL  \\\n",
       "0          With parents      -13258          -2300           1   \n",
       "1     House / apartment      -17876           -377           1   \n",
       "2     House / apartment      -19579          -1028           1   \n",
       "3     House / apartment      -15109          -1956           1   \n",
       "4     House / apartment      -17281          -5578           1   \n",
       "...                 ...         ...            ...         ...   \n",
       "2005  House / apartment      -16413           -622           1   \n",
       "2006       With parents      -13720          -1394           1   \n",
       "2007  House / apartment      -18661          -1265           1   \n",
       "2008  House / apartment      -10396           -564           1   \n",
       "2009  House / apartment      -12380          -2110           1   \n",
       "\n",
       "      FLAG_WORK_PHONE  FLAG_PHONE  FLAG_EMAIL                    JOB  \\\n",
       "0                   0           0           0               Managers   \n",
       "1                   1           1           0  Private service staff   \n",
       "2                   0           1           0               Laborers   \n",
       "3                   0           0           0             Core staff   \n",
       "4                   1           0           0                Drivers   \n",
       "...               ...         ...         ...                    ...   \n",
       "2005                0           1           0  High skill tech staff   \n",
       "2006                0           0           0               Laborers   \n",
       "2007                0           0           0               Managers   \n",
       "2008                0           0           1               IT staff   \n",
       "2009                0           0           0               Laborers   \n",
       "\n",
       "      BEGIN_MONTHS STATUS  \n",
       "0               -6      C  \n",
       "1               -4      0  \n",
       "2                0      C  \n",
       "3               -3      0  \n",
       "4              -29      0  \n",
       "...            ...    ...  \n",
       "2005           -11      5  \n",
       "2006            -4      5  \n",
       "2007           -33      5  \n",
       "2008            -4      2  \n",
       "2009           -11      4  \n",
       "\n",
       "[2010 rows x 19 columns]>"
      ]
     },
     "execution_count": 3,
     "metadata": {},
     "output_type": "execute_result"
    }
   ],
   "source": [
    "df.head"
   ]
  },
  {
   "cell_type": "code",
   "execution_count": 4,
   "id": "3a44c92e",
   "metadata": {},
   "outputs": [],
   "source": [
    "#df[\"TARGET\"] = df[\"TARGET\"].replace(0, \"F\")\n",
    "#df[\"TARGET\"] = df[\"TARGET\"].replace(1, \"T\")\n",
    "\n",
    "#print (df.TARGET)"
   ]
  },
  {
   "cell_type": "code",
   "execution_count": 5,
   "id": "7b4c2842",
   "metadata": {},
   "outputs": [
    {
     "name": "stdout",
     "output_type": "stream",
     "text": [
      "TARGET                   int64\n",
      "ID                       int64\n",
      "CODE_GENDER             object\n",
      "FLAG_OWN_CAR            object\n",
      "FLAG_OWN_REALTY         object\n",
      "CNT_CHILDREN            object\n",
      "AMT_INCOME_TOTAL       float64\n",
      "NAME_EDUCATION_TYPE     object\n",
      "NAME_FAMILY_STATUS      object\n",
      "NAME_HOUSING_TYPE       object\n",
      "DAYS_BIRTH               int64\n",
      "DAYS_EMPLOYED            int64\n",
      "FLAG_MOBIL               int64\n",
      "FLAG_WORK_PHONE          int64\n",
      "FLAG_PHONE               int64\n",
      "FLAG_EMAIL               int64\n",
      "JOB                     object\n",
      "BEGIN_MONTHS             int64\n",
      "STATUS                  object\n",
      "dtype: object\n"
     ]
    }
   ],
   "source": [
    "print(df.dtypes)"
   ]
  },
  {
   "cell_type": "code",
   "execution_count": 6,
   "id": "d80ec058",
   "metadata": {},
   "outputs": [
    {
     "name": "stdout",
     "output_type": "stream",
     "text": [
      "Collecting imbalanced-learn\n",
      "  Downloading imbalanced_learn-0.9.1-py3-none-any.whl (199 kB)\n",
      "     |████████████████████████████████| 199 kB 21.8 MB/s            \n",
      "\u001b[?25hRequirement already satisfied: numpy>=1.17.3 in /home/ec2-user/anaconda3/envs/python3/lib/python3.6/site-packages (from imbalanced-learn) (1.19.5)\n",
      "Requirement already satisfied: joblib>=1.0.0 in /home/ec2-user/anaconda3/envs/python3/lib/python3.6/site-packages (from imbalanced-learn) (1.0.1)\n",
      "Requirement already satisfied: threadpoolctl>=2.0.0 in /home/ec2-user/anaconda3/envs/python3/lib/python3.6/site-packages (from imbalanced-learn) (2.1.0)\n",
      "Requirement already satisfied: scipy>=1.3.2 in /home/ec2-user/anaconda3/envs/python3/lib/python3.6/site-packages (from imbalanced-learn) (1.5.3)\n",
      "  Downloading imbalanced_learn-0.9.0-py3-none-any.whl (199 kB)\n",
      "     |████████████████████████████████| 199 kB 67.0 MB/s            \n",
      "\u001b[?25h  Downloading imbalanced_learn-0.8.1-py3-none-any.whl (189 kB)\n",
      "     |████████████████████████████████| 189 kB 71.8 MB/s            \n",
      "\u001b[?25hRequirement already satisfied: scikit-learn>=0.24 in /home/ec2-user/anaconda3/envs/python3/lib/python3.6/site-packages (from imbalanced-learn) (0.24.1)\n",
      "Installing collected packages: imbalanced-learn\n",
      "Successfully installed imbalanced-learn-0.8.1\n"
     ]
    }
   ],
   "source": [
    "!pip install imbalanced-learn\n",
    "from imblearn import under_sampling, over_sampling\n",
    "from imblearn.over_sampling import RandomOverSampler"
   ]
  },
  {
   "cell_type": "code",
   "execution_count": 8,
   "id": "c98fd412",
   "metadata": {},
   "outputs": [
    {
     "data": {
      "text/plain": [
       "0    1048\n",
       "1     962\n",
       "Name: TARGET, dtype: int64"
      ]
     },
     "execution_count": 8,
     "metadata": {},
     "output_type": "execute_result"
    }
   ],
   "source": [
    "df['TARGET'].value_counts()"
   ]
  },
  {
   "cell_type": "code",
   "execution_count": 6,
   "id": "a4a8e4a4",
   "metadata": {},
   "outputs": [],
   "source": [
    "#target=df['TARGET']\n",
    "#target.head"
   ]
  },
  {
   "cell_type": "code",
   "execution_count": 9,
   "id": "9b3d684a",
   "metadata": {},
   "outputs": [],
   "source": [
    "df.drop('ID', inplace=True, axis=1)\n",
    "df.drop('BEGIN_MONTHS', inplace=True, axis=1)\n",
    "        "
   ]
  },
  {
   "cell_type": "code",
   "execution_count": null,
   "id": "1381b704",
   "metadata": {},
   "outputs": [],
   "source": []
  },
  {
   "cell_type": "code",
   "execution_count": 10,
   "id": "0069d92e",
   "metadata": {},
   "outputs": [
    {
     "data": {
      "text/plain": [
       "0       270000.0\n",
       "1        81000.0\n",
       "2       270000.0\n",
       "3       112500.0\n",
       "4       139500.0\n",
       "          ...   \n",
       "2005    135000.0\n",
       "2006    202500.0\n",
       "2007    315000.0\n",
       "2008    103500.0\n",
       "2009    270000.0\n",
       "Name: AMT_INCOME_TOTAL, Length: 2010, dtype: float64"
      ]
     },
     "execution_count": 10,
     "metadata": {},
     "output_type": "execute_result"
    }
   ],
   "source": [
    "pd.to_numeric(df.AMT_INCOME_TOTAL, downcast='signed')"
   ]
  },
  {
   "cell_type": "code",
   "execution_count": 11,
   "id": "ca5592d1",
   "metadata": {},
   "outputs": [],
   "source": [
    "df.CODE_GENDER=pd.Categorical(df.CODE_GENDER)"
   ]
  },
  {
   "cell_type": "code",
   "execution_count": 12,
   "id": "dcf41ff0",
   "metadata": {},
   "outputs": [
    {
     "data": {
      "text/plain": [
       "{0: 'F', 1: 'M'}"
      ]
     },
     "execution_count": 12,
     "metadata": {},
     "output_type": "execute_result"
    }
   ],
   "source": [
    "dict(enumerate(df['CODE_GENDER'].cat.categories))"
   ]
  },
  {
   "cell_type": "code",
   "execution_count": 13,
   "id": "5a6bea1e",
   "metadata": {},
   "outputs": [],
   "source": [
    "df['NUM_CODE_GENDER'] = df.CODE_GENDER.cat.codes\n",
    "df.drop('CODE_GENDER', inplace=True, axis=1)"
   ]
  },
  {
   "cell_type": "code",
   "execution_count": 14,
   "id": "f2d87df3",
   "metadata": {},
   "outputs": [
    {
     "data": {
      "text/plain": [
       "{0: 'N', 1: 'Y'}"
      ]
     },
     "execution_count": 14,
     "metadata": {},
     "output_type": "execute_result"
    }
   ],
   "source": [
    "df.FLAG_OWN_CAR=pd.Categorical(df.FLAG_OWN_CAR)\n",
    "dict(enumerate(df['FLAG_OWN_CAR'].cat.categories))"
   ]
  },
  {
   "cell_type": "code",
   "execution_count": 15,
   "id": "8fa28d14",
   "metadata": {},
   "outputs": [],
   "source": [
    "\n",
    "df['CODE_OWN_CAR'] = df.FLAG_OWN_CAR.cat.codes\n",
    "df.drop('FLAG_OWN_CAR', inplace=True, axis=1)"
   ]
  },
  {
   "cell_type": "code",
   "execution_count": 16,
   "id": "340a8a05",
   "metadata": {},
   "outputs": [
    {
     "data": {
      "text/plain": [
       "{0: 'N', 1: 'Y'}"
      ]
     },
     "execution_count": 16,
     "metadata": {},
     "output_type": "execute_result"
    }
   ],
   "source": [
    "df.FLAG_OWN_REALTY=pd.Categorical(df.FLAG_OWN_REALTY)\n",
    "dict(enumerate(df['FLAG_OWN_REALTY'].cat.categories))"
   ]
  },
  {
   "cell_type": "code",
   "execution_count": 17,
   "id": "57579e30",
   "metadata": {},
   "outputs": [],
   "source": [
    "df['CODE_OWN_REALTY'] = df.FLAG_OWN_REALTY.cat.codes\n",
    "df.drop('FLAG_OWN_REALTY', inplace=True, axis=1)"
   ]
  },
  {
   "cell_type": "code",
   "execution_count": 18,
   "id": "65b33956",
   "metadata": {},
   "outputs": [
    {
     "data": {
      "text/plain": [
       "{0: '1 children', 1: '2+ children', 2: 'No children'}"
      ]
     },
     "execution_count": 18,
     "metadata": {},
     "output_type": "execute_result"
    }
   ],
   "source": [
    "df.CNT_CHILDREN=pd.Categorical(df.CNT_CHILDREN)\n",
    "dict(enumerate(df['CNT_CHILDREN'].cat.categories))"
   ]
  },
  {
   "cell_type": "code",
   "execution_count": 19,
   "id": "47f28475",
   "metadata": {},
   "outputs": [],
   "source": [
    "df['CODE_CNT_CHILDREN'] = df.CNT_CHILDREN.cat.codes\n",
    "df.drop('CNT_CHILDREN', inplace=True, axis=1)"
   ]
  },
  {
   "cell_type": "code",
   "execution_count": 20,
   "id": "9826b63b",
   "metadata": {},
   "outputs": [
    {
     "data": {
      "text/plain": [
       "{0: 'Academic degree',\n",
       " 1: 'Higher education',\n",
       " 2: 'Incomplete higher',\n",
       " 3: 'Lower secondary',\n",
       " 4: 'Secondary / secondary special'}"
      ]
     },
     "execution_count": 20,
     "metadata": {},
     "output_type": "execute_result"
    }
   ],
   "source": [
    "df.NAME_EDUCATION_TYPE=pd.Categorical(df.NAME_EDUCATION_TYPE)\n",
    "dict(enumerate(df['NAME_EDUCATION_TYPE'].cat.categories))"
   ]
  },
  {
   "cell_type": "code",
   "execution_count": 21,
   "id": "d7a2961e",
   "metadata": {},
   "outputs": [],
   "source": [
    "df['CODE_NAME_EDUCATION_TYPE'] = df.NAME_EDUCATION_TYPE.cat.codes\n",
    "df.drop('NAME_EDUCATION_TYPE', inplace=True, axis=1)"
   ]
  },
  {
   "cell_type": "code",
   "execution_count": 22,
   "id": "dc1bdd0c",
   "metadata": {},
   "outputs": [
    {
     "data": {
      "text/plain": [
       "{0: 'Civil marriage',\n",
       " 1: 'Married',\n",
       " 2: 'Separated',\n",
       " 3: 'Single / not married',\n",
       " 4: 'Widow'}"
      ]
     },
     "execution_count": 22,
     "metadata": {},
     "output_type": "execute_result"
    }
   ],
   "source": [
    "df.NAME_FAMILY_STATUS=pd.Categorical(df.NAME_FAMILY_STATUS)\n",
    "dict(enumerate(df['NAME_FAMILY_STATUS'].cat.categories))"
   ]
  },
  {
   "cell_type": "code",
   "execution_count": 23,
   "id": "926e1e9b",
   "metadata": {},
   "outputs": [],
   "source": [
    "df['CODENAME_FAMILY_STATUS'] = df.NAME_FAMILY_STATUS.cat.codes\n",
    "df.drop('NAME_FAMILY_STATUS', inplace=True, axis=1)"
   ]
  },
  {
   "cell_type": "code",
   "execution_count": 24,
   "id": "66f4dc88",
   "metadata": {},
   "outputs": [
    {
     "data": {
      "text/plain": [
       "{0: 'Co-op apartment',\n",
       " 1: 'House / apartment',\n",
       " 2: 'Municipal apartment',\n",
       " 3: 'Office apartment',\n",
       " 4: 'Rented apartment',\n",
       " 5: 'With parents'}"
      ]
     },
     "execution_count": 24,
     "metadata": {},
     "output_type": "execute_result"
    }
   ],
   "source": [
    "df.NAME_HOUSING_TYPE=pd.Categorical(df.NAME_HOUSING_TYPE)\n",
    "dict(enumerate(df['NAME_HOUSING_TYPE'].cat.categories))"
   ]
  },
  {
   "cell_type": "code",
   "execution_count": 25,
   "id": "cfe93adc",
   "metadata": {},
   "outputs": [],
   "source": [
    "df['CODE_NAME_HOUSING_TYPE'] = df.NAME_HOUSING_TYPE.cat.codes\n",
    "df.drop('NAME_HOUSING_TYPE', inplace=True, axis=1)"
   ]
  },
  {
   "cell_type": "code",
   "execution_count": 26,
   "id": "dfe7b3fe",
   "metadata": {},
   "outputs": [
    {
     "data": {
      "text/plain": [
       "{0: 1}"
      ]
     },
     "execution_count": 26,
     "metadata": {},
     "output_type": "execute_result"
    }
   ],
   "source": [
    "df.FLAG_MOBIL=pd.Categorical(df.FLAG_MOBIL)\n",
    "dict(enumerate(df['FLAG_MOBIL'].cat.categories))"
   ]
  },
  {
   "cell_type": "code",
   "execution_count": 27,
   "id": "6e17207e",
   "metadata": {},
   "outputs": [],
   "source": [
    "df['CODE_FLAG_MOBIL'] = df.FLAG_MOBIL.cat.codes\n",
    "df.drop('FLAG_MOBIL', inplace=True, axis=1)"
   ]
  },
  {
   "cell_type": "code",
   "execution_count": 28,
   "id": "02fcced3",
   "metadata": {},
   "outputs": [
    {
     "data": {
      "text/plain": [
       "{0: 0, 1: 1}"
      ]
     },
     "execution_count": 28,
     "metadata": {},
     "output_type": "execute_result"
    }
   ],
   "source": [
    "df.FLAG_WORK_PHONE=pd.Categorical(df.FLAG_WORK_PHONE)\n",
    "dict(enumerate(df['FLAG_WORK_PHONE'].cat.categories))"
   ]
  },
  {
   "cell_type": "code",
   "execution_count": 29,
   "id": "77e62dad",
   "metadata": {},
   "outputs": [],
   "source": [
    "df['CODE_WORK_PHONE'] = df.FLAG_WORK_PHONE.cat.codes\n",
    "df.drop('FLAG_WORK_PHONE', inplace=True, axis=1)"
   ]
  },
  {
   "cell_type": "code",
   "execution_count": 30,
   "id": "986382d4",
   "metadata": {},
   "outputs": [
    {
     "data": {
      "text/plain": [
       "{0: 0, 1: 1}"
      ]
     },
     "execution_count": 30,
     "metadata": {},
     "output_type": "execute_result"
    }
   ],
   "source": [
    "df.FLAG_PHONE=pd.Categorical(df.FLAG_PHONE)\n",
    "dict(enumerate(df['FLAG_PHONE'].cat.categories))"
   ]
  },
  {
   "cell_type": "code",
   "execution_count": 31,
   "id": "936dfc71",
   "metadata": {},
   "outputs": [],
   "source": [
    "df['CODE_FLAG_PHONE'] = df.FLAG_PHONE.cat.codes\n",
    "df.drop('FLAG_PHONE', inplace=True, axis=1)"
   ]
  },
  {
   "cell_type": "code",
   "execution_count": 32,
   "id": "0354e8c4",
   "metadata": {},
   "outputs": [
    {
     "data": {
      "text/plain": [
       "{0: 0, 1: 1}"
      ]
     },
     "execution_count": 32,
     "metadata": {},
     "output_type": "execute_result"
    }
   ],
   "source": [
    "df.FLAG_EMAIL=pd.Categorical(df.FLAG_EMAIL)\n",
    "dict(enumerate(df['FLAG_EMAIL'].cat.categories))"
   ]
  },
  {
   "cell_type": "code",
   "execution_count": 33,
   "id": "40e89949",
   "metadata": {},
   "outputs": [],
   "source": [
    "df['CODE_EMAIL'] = df.FLAG_EMAIL.cat.codes\n",
    "df.drop('FLAG_EMAIL', inplace=True, axis=1)"
   ]
  },
  {
   "cell_type": "code",
   "execution_count": 34,
   "id": "1434c764",
   "metadata": {},
   "outputs": [
    {
     "data": {
      "text/plain": [
       "{0: 'Accountants',\n",
       " 1: 'Cleaning staff',\n",
       " 2: 'Cooking staff',\n",
       " 3: 'Core staff',\n",
       " 4: 'Drivers',\n",
       " 5: 'HR staff',\n",
       " 6: 'High skill tech staff',\n",
       " 7: 'IT staff',\n",
       " 8: 'Laborers',\n",
       " 9: 'Low-skill Laborers',\n",
       " 10: 'Managers',\n",
       " 11: 'Medicine staff',\n",
       " 12: 'Private service staff',\n",
       " 13: 'Realty agents',\n",
       " 14: 'Sales staff',\n",
       " 15: 'Secretaries',\n",
       " 16: 'Security staff',\n",
       " 17: 'Waiters/barmen staff'}"
      ]
     },
     "execution_count": 34,
     "metadata": {},
     "output_type": "execute_result"
    }
   ],
   "source": [
    "df.JOB=pd.Categorical(df.JOB)\n",
    "dict(enumerate(df['JOB'].cat.categories))"
   ]
  },
  {
   "cell_type": "code",
   "execution_count": 35,
   "id": "1871bd80",
   "metadata": {},
   "outputs": [],
   "source": [
    "df['CODE_JOB'] = df.JOB.cat.codes\n",
    "df.drop('JOB', inplace=True, axis=1)"
   ]
  },
  {
   "cell_type": "code",
   "execution_count": 36,
   "id": "2bf3be32",
   "metadata": {},
   "outputs": [
    {
     "data": {
      "text/plain": [
       "{0: '0', 1: '1', 2: '2', 3: '3', 4: '4', 5: '5', 6: 'C', 7: 'X'}"
      ]
     },
     "execution_count": 36,
     "metadata": {},
     "output_type": "execute_result"
    }
   ],
   "source": [
    "df.STATUS=pd.Categorical(df.STATUS)\n",
    "dict(enumerate(df['STATUS'].cat.categories))"
   ]
  },
  {
   "cell_type": "code",
   "execution_count": 37,
   "id": "0225ed6a",
   "metadata": {},
   "outputs": [],
   "source": [
    "\n",
    "df['CODE_STATUS'] = df.STATUS.cat.codes\n",
    "df.drop('STATUS', inplace=True, axis=1)"
   ]
  },
  {
   "cell_type": "code",
   "execution_count": 38,
   "id": "b61ccef7",
   "metadata": {},
   "outputs": [
    {
     "data": {
      "text/plain": [
       "0       0\n",
       "1       0\n",
       "2       0\n",
       "3       0\n",
       "4       0\n",
       "       ..\n",
       "2005    1\n",
       "2006    1\n",
       "2007    1\n",
       "2008    1\n",
       "2009    1\n",
       "Name: TARGET, Length: 2010, dtype: int8"
      ]
     },
     "execution_count": 38,
     "metadata": {},
     "output_type": "execute_result"
    }
   ],
   "source": [
    "pd.to_numeric(df.TARGET, downcast='signed')"
   ]
  },
  {
   "cell_type": "code",
   "execution_count": 39,
   "id": "f8623e87",
   "metadata": {},
   "outputs": [
    {
     "data": {
      "text/plain": [
       "0      -13258\n",
       "1      -17876\n",
       "2      -19579\n",
       "3      -15109\n",
       "4      -17281\n",
       "        ...  \n",
       "2005   -16413\n",
       "2006   -13720\n",
       "2007   -18661\n",
       "2008   -10396\n",
       "2009   -12380\n",
       "Name: DAYS_BIRTH, Length: 2010, dtype: int16"
      ]
     },
     "execution_count": 39,
     "metadata": {},
     "output_type": "execute_result"
    }
   ],
   "source": [
    "pd.to_numeric(df.DAYS_BIRTH, downcast='signed')"
   ]
  },
  {
   "cell_type": "code",
   "execution_count": 40,
   "id": "bc811890",
   "metadata": {},
   "outputs": [
    {
     "data": {
      "text/plain": [
       "0      -2300\n",
       "1       -377\n",
       "2      -1028\n",
       "3      -1956\n",
       "4      -5578\n",
       "        ... \n",
       "2005    -622\n",
       "2006   -1394\n",
       "2007   -1265\n",
       "2008    -564\n",
       "2009   -2110\n",
       "Name: DAYS_EMPLOYED, Length: 2010, dtype: int16"
      ]
     },
     "execution_count": 40,
     "metadata": {},
     "output_type": "execute_result"
    }
   ],
   "source": [
    "pd.to_numeric(df.DAYS_EMPLOYED, downcast='signed')"
   ]
  },
  {
   "cell_type": "code",
   "execution_count": null,
   "id": "742792ab",
   "metadata": {},
   "outputs": [],
   "source": []
  },
  {
   "cell_type": "code",
   "execution_count": 41,
   "id": "2f148e6e",
   "metadata": {},
   "outputs": [
    {
     "name": "stdout",
     "output_type": "stream",
     "text": [
      "TARGET                        int64\n",
      "AMT_INCOME_TOTAL            float64\n",
      "DAYS_BIRTH                    int64\n",
      "DAYS_EMPLOYED                 int64\n",
      "NUM_CODE_GENDER                int8\n",
      "CODE_OWN_CAR                   int8\n",
      "CODE_OWN_REALTY                int8\n",
      "CODE_CNT_CHILDREN              int8\n",
      "CODE_NAME_EDUCATION_TYPE       int8\n",
      "CODENAME_FAMILY_STATUS         int8\n",
      "CODE_NAME_HOUSING_TYPE         int8\n",
      "CODE_FLAG_MOBIL                int8\n",
      "CODE_WORK_PHONE                int8\n",
      "CODE_FLAG_PHONE                int8\n",
      "CODE_EMAIL                     int8\n",
      "CODE_JOB                       int8\n",
      "CODE_STATUS                    int8\n",
      "dtype: object\n"
     ]
    },
    {
     "data": {
      "text/html": [
       "<div>\n",
       "<style scoped>\n",
       "    .dataframe tbody tr th:only-of-type {\n",
       "        vertical-align: middle;\n",
       "    }\n",
       "\n",
       "    .dataframe tbody tr th {\n",
       "        vertical-align: top;\n",
       "    }\n",
       "\n",
       "    .dataframe thead th {\n",
       "        text-align: right;\n",
       "    }\n",
       "</style>\n",
       "<table border=\"1\" class=\"dataframe\">\n",
       "  <thead>\n",
       "    <tr style=\"text-align: right;\">\n",
       "      <th></th>\n",
       "      <th>TARGET</th>\n",
       "      <th>AMT_INCOME_TOTAL</th>\n",
       "      <th>DAYS_BIRTH</th>\n",
       "      <th>DAYS_EMPLOYED</th>\n",
       "      <th>NUM_CODE_GENDER</th>\n",
       "      <th>CODE_OWN_CAR</th>\n",
       "      <th>CODE_OWN_REALTY</th>\n",
       "      <th>CODE_CNT_CHILDREN</th>\n",
       "      <th>CODE_NAME_EDUCATION_TYPE</th>\n",
       "      <th>CODENAME_FAMILY_STATUS</th>\n",
       "      <th>CODE_NAME_HOUSING_TYPE</th>\n",
       "      <th>CODE_FLAG_MOBIL</th>\n",
       "      <th>CODE_WORK_PHONE</th>\n",
       "      <th>CODE_FLAG_PHONE</th>\n",
       "      <th>CODE_EMAIL</th>\n",
       "      <th>CODE_JOB</th>\n",
       "      <th>CODE_STATUS</th>\n",
       "    </tr>\n",
       "  </thead>\n",
       "  <tbody>\n",
       "    <tr>\n",
       "      <th>0</th>\n",
       "      <td>0</td>\n",
       "      <td>270000.0</td>\n",
       "      <td>-13258</td>\n",
       "      <td>-2300</td>\n",
       "      <td>0</td>\n",
       "      <td>1</td>\n",
       "      <td>0</td>\n",
       "      <td>1</td>\n",
       "      <td>4</td>\n",
       "      <td>1</td>\n",
       "      <td>5</td>\n",
       "      <td>0</td>\n",
       "      <td>0</td>\n",
       "      <td>0</td>\n",
       "      <td>0</td>\n",
       "      <td>10</td>\n",
       "      <td>6</td>\n",
       "    </tr>\n",
       "    <tr>\n",
       "      <th>1</th>\n",
       "      <td>0</td>\n",
       "      <td>81000.0</td>\n",
       "      <td>-17876</td>\n",
       "      <td>-377</td>\n",
       "      <td>0</td>\n",
       "      <td>0</td>\n",
       "      <td>0</td>\n",
       "      <td>2</td>\n",
       "      <td>4</td>\n",
       "      <td>3</td>\n",
       "      <td>1</td>\n",
       "      <td>0</td>\n",
       "      <td>1</td>\n",
       "      <td>1</td>\n",
       "      <td>0</td>\n",
       "      <td>12</td>\n",
       "      <td>0</td>\n",
       "    </tr>\n",
       "    <tr>\n",
       "      <th>2</th>\n",
       "      <td>0</td>\n",
       "      <td>270000.0</td>\n",
       "      <td>-19579</td>\n",
       "      <td>-1028</td>\n",
       "      <td>1</td>\n",
       "      <td>1</td>\n",
       "      <td>1</td>\n",
       "      <td>2</td>\n",
       "      <td>1</td>\n",
       "      <td>1</td>\n",
       "      <td>1</td>\n",
       "      <td>0</td>\n",
       "      <td>0</td>\n",
       "      <td>1</td>\n",
       "      <td>0</td>\n",
       "      <td>8</td>\n",
       "      <td>6</td>\n",
       "    </tr>\n",
       "    <tr>\n",
       "      <th>3</th>\n",
       "      <td>0</td>\n",
       "      <td>112500.0</td>\n",
       "      <td>-15109</td>\n",
       "      <td>-1956</td>\n",
       "      <td>0</td>\n",
       "      <td>1</td>\n",
       "      <td>1</td>\n",
       "      <td>0</td>\n",
       "      <td>4</td>\n",
       "      <td>1</td>\n",
       "      <td>1</td>\n",
       "      <td>0</td>\n",
       "      <td>0</td>\n",
       "      <td>0</td>\n",
       "      <td>0</td>\n",
       "      <td>3</td>\n",
       "      <td>0</td>\n",
       "    </tr>\n",
       "    <tr>\n",
       "      <th>4</th>\n",
       "      <td>0</td>\n",
       "      <td>139500.0</td>\n",
       "      <td>-17281</td>\n",
       "      <td>-5578</td>\n",
       "      <td>1</td>\n",
       "      <td>1</td>\n",
       "      <td>1</td>\n",
       "      <td>1</td>\n",
       "      <td>4</td>\n",
       "      <td>1</td>\n",
       "      <td>1</td>\n",
       "      <td>0</td>\n",
       "      <td>1</td>\n",
       "      <td>0</td>\n",
       "      <td>0</td>\n",
       "      <td>4</td>\n",
       "      <td>0</td>\n",
       "    </tr>\n",
       "  </tbody>\n",
       "</table>\n",
       "</div>"
      ],
      "text/plain": [
       "   TARGET  AMT_INCOME_TOTAL  DAYS_BIRTH  DAYS_EMPLOYED  NUM_CODE_GENDER  \\\n",
       "0       0          270000.0      -13258          -2300                0   \n",
       "1       0           81000.0      -17876           -377                0   \n",
       "2       0          270000.0      -19579          -1028                1   \n",
       "3       0          112500.0      -15109          -1956                0   \n",
       "4       0          139500.0      -17281          -5578                1   \n",
       "\n",
       "   CODE_OWN_CAR  CODE_OWN_REALTY  CODE_CNT_CHILDREN  CODE_NAME_EDUCATION_TYPE  \\\n",
       "0             1                0                  1                         4   \n",
       "1             0                0                  2                         4   \n",
       "2             1                1                  2                         1   \n",
       "3             1                1                  0                         4   \n",
       "4             1                1                  1                         4   \n",
       "\n",
       "   CODENAME_FAMILY_STATUS  CODE_NAME_HOUSING_TYPE  CODE_FLAG_MOBIL  \\\n",
       "0                       1                       5                0   \n",
       "1                       3                       1                0   \n",
       "2                       1                       1                0   \n",
       "3                       1                       1                0   \n",
       "4                       1                       1                0   \n",
       "\n",
       "   CODE_WORK_PHONE  CODE_FLAG_PHONE  CODE_EMAIL  CODE_JOB  CODE_STATUS  \n",
       "0                0                0           0        10            6  \n",
       "1                1                1           0        12            0  \n",
       "2                0                1           0         8            6  \n",
       "3                0                0           0         3            0  \n",
       "4                1                0           0         4            0  "
      ]
     },
     "execution_count": 41,
     "metadata": {},
     "output_type": "execute_result"
    }
   ],
   "source": [
    "print(df.dtypes)\n",
    "df.head()"
   ]
  },
  {
   "cell_type": "code",
   "execution_count": 42,
   "id": "ac8f2ceb",
   "metadata": {},
   "outputs": [],
   "source": [
    "import numpy as np"
   ]
  },
  {
   "cell_type": "code",
   "execution_count": 43,
   "id": "c01413ad",
   "metadata": {},
   "outputs": [],
   "source": [
    "np.random.seed(5)"
   ]
  },
  {
   "cell_type": "code",
   "execution_count": 44,
   "id": "78618bb5",
   "metadata": {},
   "outputs": [],
   "source": [
    "l=list(df.index)"
   ]
  },
  {
   "cell_type": "code",
   "execution_count": 45,
   "id": "ae8fe0cf",
   "metadata": {},
   "outputs": [
    {
     "name": "stdout",
     "output_type": "stream",
     "text": [
      "[0, 1, 2, 3, 4, 5, 6, 7, 8, 9, 10, 11, 12, 13, 14, 15, 16, 17, 18, 19, 20, 21, 22, 23, 24, 25, 26, 27, 28, 29, 30, 31, 32, 33, 34, 35, 36, 37, 38, 39, 40, 41, 42, 43, 44, 45, 46, 47, 48, 49, 50, 51, 52, 53, 54, 55, 56, 57, 58, 59, 60, 61, 62, 63, 64, 65, 66, 67, 68, 69, 70, 71, 72, 73, 74, 75, 76, 77, 78, 79, 80, 81, 82, 83, 84, 85, 86, 87, 88, 89, 90, 91, 92, 93, 94, 95, 96, 97, 98, 99, 100, 101, 102, 103, 104, 105, 106, 107, 108, 109, 110, 111, 112, 113, 114, 115, 116, 117, 118, 119, 120, 121, 122, 123, 124, 125, 126, 127, 128, 129, 130, 131, 132, 133, 134, 135, 136, 137, 138, 139, 140, 141, 142, 143, 144, 145, 146, 147, 148, 149, 150, 151, 152, 153, 154, 155, 156, 157, 158, 159, 160, 161, 162, 163, 164, 165, 166, 167, 168, 169, 170, 171, 172, 173, 174, 175, 176, 177, 178, 179, 180, 181, 182, 183, 184, 185, 186, 187, 188, 189, 190, 191, 192, 193, 194, 195, 196, 197, 198, 199, 200, 201, 202, 203, 204, 205, 206, 207, 208, 209, 210, 211, 212, 213, 214, 215, 216, 217, 218, 219, 220, 221, 222, 223, 224, 225, 226, 227, 228, 229, 230, 231, 232, 233, 234, 235, 236, 237, 238, 239, 240, 241, 242, 243, 244, 245, 246, 247, 248, 249, 250, 251, 252, 253, 254, 255, 256, 257, 258, 259, 260, 261, 262, 263, 264, 265, 266, 267, 268, 269, 270, 271, 272, 273, 274, 275, 276, 277, 278, 279, 280, 281, 282, 283, 284, 285, 286, 287, 288, 289, 290, 291, 292, 293, 294, 295, 296, 297, 298, 299, 300, 301, 302, 303, 304, 305, 306, 307, 308, 309, 310, 311, 312, 313, 314, 315, 316, 317, 318, 319, 320, 321, 322, 323, 324, 325, 326, 327, 328, 329, 330, 331, 332, 333, 334, 335, 336, 337, 338, 339, 340, 341, 342, 343, 344, 345, 346, 347, 348, 349, 350, 351, 352, 353, 354, 355, 356, 357, 358, 359, 360, 361, 362, 363, 364, 365, 366, 367, 368, 369, 370, 371, 372, 373, 374, 375, 376, 377, 378, 379, 380, 381, 382, 383, 384, 385, 386, 387, 388, 389, 390, 391, 392, 393, 394, 395, 396, 397, 398, 399, 400, 401, 402, 403, 404, 405, 406, 407, 408, 409, 410, 411, 412, 413, 414, 415, 416, 417, 418, 419, 420, 421, 422, 423, 424, 425, 426, 427, 428, 429, 430, 431, 432, 433, 434, 435, 436, 437, 438, 439, 440, 441, 442, 443, 444, 445, 446, 447, 448, 449, 450, 451, 452, 453, 454, 455, 456, 457, 458, 459, 460, 461, 462, 463, 464, 465, 466, 467, 468, 469, 470, 471, 472, 473, 474, 475, 476, 477, 478, 479, 480, 481, 482, 483, 484, 485, 486, 487, 488, 489, 490, 491, 492, 493, 494, 495, 496, 497, 498, 499, 500, 501, 502, 503, 504, 505, 506, 507, 508, 509, 510, 511, 512, 513, 514, 515, 516, 517, 518, 519, 520, 521, 522, 523, 524, 525, 526, 527, 528, 529, 530, 531, 532, 533, 534, 535, 536, 537, 538, 539, 540, 541, 542, 543, 544, 545, 546, 547, 548, 549, 550, 551, 552, 553, 554, 555, 556, 557, 558, 559, 560, 561, 562, 563, 564, 565, 566, 567, 568, 569, 570, 571, 572, 573, 574, 575, 576, 577, 578, 579, 580, 581, 582, 583, 584, 585, 586, 587, 588, 589, 590, 591, 592, 593, 594, 595, 596, 597, 598, 599, 600, 601, 602, 603, 604, 605, 606, 607, 608, 609, 610, 611, 612, 613, 614, 615, 616, 617, 618, 619, 620, 621, 622, 623, 624, 625, 626, 627, 628, 629, 630, 631, 632, 633, 634, 635, 636, 637, 638, 639, 640, 641, 642, 643, 644, 645, 646, 647, 648, 649, 650, 651, 652, 653, 654, 655, 656, 657, 658, 659, 660, 661, 662, 663, 664, 665, 666, 667, 668, 669, 670, 671, 672, 673, 674, 675, 676, 677, 678, 679, 680, 681, 682, 683, 684, 685, 686, 687, 688, 689, 690, 691, 692, 693, 694, 695, 696, 697, 698, 699, 700, 701, 702, 703, 704, 705, 706, 707, 708, 709, 710, 711, 712, 713, 714, 715, 716, 717, 718, 719, 720, 721, 722, 723, 724, 725, 726, 727, 728, 729, 730, 731, 732, 733, 734, 735, 736, 737, 738, 739, 740, 741, 742, 743, 744, 745, 746, 747, 748, 749, 750, 751, 752, 753, 754, 755, 756, 757, 758, 759, 760, 761, 762, 763, 764, 765, 766, 767, 768, 769, 770, 771, 772, 773, 774, 775, 776, 777, 778, 779, 780, 781, 782, 783, 784, 785, 786, 787, 788, 789, 790, 791, 792, 793, 794, 795, 796, 797, 798, 799, 800, 801, 802, 803, 804, 805, 806, 807, 808, 809, 810, 811, 812, 813, 814, 815, 816, 817, 818, 819, 820, 821, 822, 823, 824, 825, 826, 827, 828, 829, 830, 831, 832, 833, 834, 835, 836, 837, 838, 839, 840, 841, 842, 843, 844, 845, 846, 847, 848, 849, 850, 851, 852, 853, 854, 855, 856, 857, 858, 859, 860, 861, 862, 863, 864, 865, 866, 867, 868, 869, 870, 871, 872, 873, 874, 875, 876, 877, 878, 879, 880, 881, 882, 883, 884, 885, 886, 887, 888, 889, 890, 891, 892, 893, 894, 895, 896, 897, 898, 899, 900, 901, 902, 903, 904, 905, 906, 907, 908, 909, 910, 911, 912, 913, 914, 915, 916, 917, 918, 919, 920, 921, 922, 923, 924, 925, 926, 927, 928, 929, 930, 931, 932, 933, 934, 935, 936, 937, 938, 939, 940, 941, 942, 943, 944, 945, 946, 947, 948, 949, 950, 951, 952, 953, 954, 955, 956, 957, 958, 959, 960, 961, 962, 963, 964, 965, 966, 967, 968, 969, 970, 971, 972, 973, 974, 975, 976, 977, 978, 979, 980, 981, 982, 983, 984, 985, 986, 987, 988, 989, 990, 991, 992, 993, 994, 995, 996, 997, 998, 999, 1000, 1001, 1002, 1003, 1004, 1005, 1006, 1007, 1008, 1009, 1010, 1011, 1012, 1013, 1014, 1015, 1016, 1017, 1018, 1019, 1020, 1021, 1022, 1023, 1024, 1025, 1026, 1027, 1028, 1029, 1030, 1031, 1032, 1033, 1034, 1035, 1036, 1037, 1038, 1039, 1040, 1041, 1042, 1043, 1044, 1045, 1046, 1047, 1048, 1049, 1050, 1051, 1052, 1053, 1054, 1055, 1056, 1057, 1058, 1059, 1060, 1061, 1062, 1063, 1064, 1065, 1066, 1067, 1068, 1069, 1070, 1071, 1072, 1073, 1074, 1075, 1076, 1077, 1078, 1079, 1080, 1081, 1082, 1083, 1084, 1085, 1086, 1087, 1088, 1089, 1090, 1091, 1092, 1093, 1094, 1095, 1096, 1097, 1098, 1099, 1100, 1101, 1102, 1103, 1104, 1105, 1106, 1107, 1108, 1109, 1110, 1111, 1112, 1113, 1114, 1115, 1116, 1117, 1118, 1119, 1120, 1121, 1122, 1123, 1124, 1125, 1126, 1127, 1128, 1129, 1130, 1131, 1132, 1133, 1134, 1135, 1136, 1137, 1138, 1139, 1140, 1141, 1142, 1143, 1144, 1145, 1146, 1147, 1148, 1149, 1150, 1151, 1152, 1153, 1154, 1155, 1156, 1157, 1158, 1159, 1160, 1161, 1162, 1163, 1164, 1165, 1166, 1167, 1168, 1169, 1170, 1171, 1172, 1173, 1174, 1175, 1176, 1177, 1178, 1179, 1180, 1181, 1182, 1183, 1184, 1185, 1186, 1187, 1188, 1189, 1190, 1191, 1192, 1193, 1194, 1195, 1196, 1197, 1198, 1199, 1200, 1201, 1202, 1203, 1204, 1205, 1206, 1207, 1208, 1209, 1210, 1211, 1212, 1213, 1214, 1215, 1216, 1217, 1218, 1219, 1220, 1221, 1222, 1223, 1224, 1225, 1226, 1227, 1228, 1229, 1230, 1231, 1232, 1233, 1234, 1235, 1236, 1237, 1238, 1239, 1240, 1241, 1242, 1243, 1244, 1245, 1246, 1247, 1248, 1249, 1250, 1251, 1252, 1253, 1254, 1255, 1256, 1257, 1258, 1259, 1260, 1261, 1262, 1263, 1264, 1265, 1266, 1267, 1268, 1269, 1270, 1271, 1272, 1273, 1274, 1275, 1276, 1277, 1278, 1279, 1280, 1281, 1282, 1283, 1284, 1285, 1286, 1287, 1288, 1289, 1290, 1291, 1292, 1293, 1294, 1295, 1296, 1297, 1298, 1299, 1300, 1301, 1302, 1303, 1304, 1305, 1306, 1307, 1308, 1309, 1310, 1311, 1312, 1313, 1314, 1315, 1316, 1317, 1318, 1319, 1320, 1321, 1322, 1323, 1324, 1325, 1326, 1327, 1328, 1329, 1330, 1331, 1332, 1333, 1334, 1335, 1336, 1337, 1338, 1339, 1340, 1341, 1342, 1343, 1344, 1345, 1346, 1347, 1348, 1349, 1350, 1351, 1352, 1353, 1354, 1355, 1356, 1357, 1358, 1359, 1360, 1361, 1362, 1363, 1364, 1365, 1366, 1367, 1368, 1369, 1370, 1371, 1372, 1373, 1374, 1375, 1376, 1377, 1378, 1379, 1380, 1381, 1382, 1383, 1384, 1385, 1386, 1387, 1388, 1389, 1390, 1391, 1392, 1393, 1394, 1395, 1396, 1397, 1398, 1399, 1400, 1401, 1402, 1403, 1404, 1405, 1406, 1407, 1408, 1409, 1410, 1411, 1412, 1413, 1414, 1415, 1416, 1417, 1418, 1419, 1420, 1421, 1422, 1423, 1424, 1425, 1426, 1427, 1428, 1429, 1430, 1431, 1432, 1433, 1434, 1435, 1436, 1437, 1438, 1439, 1440, 1441, 1442, 1443, 1444, 1445, 1446, 1447, 1448, 1449, 1450, 1451, 1452, 1453, 1454, 1455, 1456, 1457, 1458, 1459, 1460, 1461, 1462, 1463, 1464, 1465, 1466, 1467, 1468, 1469, 1470, 1471, 1472, 1473, 1474, 1475, 1476, 1477, 1478, 1479, 1480, 1481, 1482, 1483, 1484, 1485, 1486, 1487, 1488, 1489, 1490, 1491, 1492, 1493, 1494, 1495, 1496, 1497, 1498, 1499, 1500, 1501, 1502, 1503, 1504, 1505, 1506, 1507, 1508, 1509, 1510, 1511, 1512, 1513, 1514, 1515, 1516, 1517, 1518, 1519, 1520, 1521, 1522, 1523, 1524, 1525, 1526, 1527, 1528, 1529, 1530, 1531, 1532, 1533, 1534, 1535, 1536, 1537, 1538, 1539, 1540, 1541, 1542, 1543, 1544, 1545, 1546, 1547, 1548, 1549, 1550, 1551, 1552, 1553, 1554, 1555, 1556, 1557, 1558, 1559, 1560, 1561, 1562, 1563, 1564, 1565, 1566, 1567, 1568, 1569, 1570, 1571, 1572, 1573, 1574, 1575, 1576, 1577, 1578, 1579, 1580, 1581, 1582, 1583, 1584, 1585, 1586, 1587, 1588, 1589, 1590, 1591, 1592, 1593, 1594, 1595, 1596, 1597, 1598, 1599, 1600, 1601, 1602, 1603, 1604, 1605, 1606, 1607, 1608, 1609, 1610, 1611, 1612, 1613, 1614, 1615, 1616, 1617, 1618, 1619, 1620, 1621, 1622, 1623, 1624, 1625, 1626, 1627, 1628, 1629, 1630, 1631, 1632, 1633, 1634, 1635, 1636, 1637, 1638, 1639, 1640, 1641, 1642, 1643, 1644, 1645, 1646, 1647, 1648, 1649, 1650, 1651, 1652, 1653, 1654, 1655, 1656, 1657, 1658, 1659, 1660, 1661, 1662, 1663, 1664, 1665, 1666, 1667, 1668, 1669, 1670, 1671, 1672, 1673, 1674, 1675, 1676, 1677, 1678, 1679, 1680, 1681, 1682, 1683, 1684, 1685, 1686, 1687, 1688, 1689, 1690, 1691, 1692, 1693, 1694, 1695, 1696, 1697, 1698, 1699, 1700, 1701, 1702, 1703, 1704, 1705, 1706, 1707, 1708, 1709, 1710, 1711, 1712, 1713, 1714, 1715, 1716, 1717, 1718, 1719, 1720, 1721, 1722, 1723, 1724, 1725, 1726, 1727, 1728, 1729, 1730, 1731, 1732, 1733, 1734, 1735, 1736, 1737, 1738, 1739, 1740, 1741, 1742, 1743, 1744, 1745, 1746, 1747, 1748, 1749, 1750, 1751, 1752, 1753, 1754, 1755, 1756, 1757, 1758, 1759, 1760, 1761, 1762, 1763, 1764, 1765, 1766, 1767, 1768, 1769, 1770, 1771, 1772, 1773, 1774, 1775, 1776, 1777, 1778, 1779, 1780, 1781, 1782, 1783, 1784, 1785, 1786, 1787, 1788, 1789, 1790, 1791, 1792, 1793, 1794, 1795, 1796, 1797, 1798, 1799, 1800, 1801, 1802, 1803, 1804, 1805, 1806, 1807, 1808, 1809, 1810, 1811, 1812, 1813, 1814, 1815, 1816, 1817, 1818, 1819, 1820, 1821, 1822, 1823, 1824, 1825, 1826, 1827, 1828, 1829, 1830, 1831, 1832, 1833, 1834, 1835, 1836, 1837, 1838, 1839, 1840, 1841, 1842, 1843, 1844, 1845, 1846, 1847, 1848, 1849, 1850, 1851, 1852, 1853, 1854, 1855, 1856, 1857, 1858, 1859, 1860, 1861, 1862, 1863, 1864, 1865, 1866, 1867, 1868, 1869, 1870, 1871, 1872, 1873, 1874, 1875, 1876, 1877, 1878, 1879, 1880, 1881, 1882, 1883, 1884, 1885, 1886, 1887, 1888, 1889, 1890, 1891, 1892, 1893, 1894, 1895, 1896, 1897, 1898, 1899, 1900, 1901, 1902, 1903, 1904, 1905, 1906, 1907, 1908, 1909, 1910, 1911, 1912, 1913, 1914, 1915, 1916, 1917, 1918, 1919, 1920, 1921, 1922, 1923, 1924, 1925, 1926, 1927, 1928, 1929, 1930, 1931, 1932, 1933, 1934, 1935, 1936, 1937, 1938, 1939, 1940, 1941, 1942, 1943, 1944, 1945, 1946, 1947, 1948, 1949, 1950, 1951, 1952, 1953, 1954, 1955, 1956, 1957, 1958, 1959, 1960, 1961, 1962, 1963, 1964, 1965, 1966, 1967, 1968, 1969, 1970, 1971, 1972, 1973, 1974, 1975, 1976, 1977, 1978, 1979, 1980, 1981, 1982, 1983, 1984, 1985, 1986, 1987, 1988, 1989, 1990, 1991, 1992, 1993, 1994, 1995, 1996, 1997, 1998, 1999, 2000, 2001, 2002, 2003, 2004, 2005, 2006, 2007, 2008, 2009]\n"
     ]
    }
   ],
   "source": [
    "print(l)"
   ]
  },
  {
   "cell_type": "code",
   "execution_count": 46,
   "id": "0bf7f333",
   "metadata": {},
   "outputs": [],
   "source": [
    "np.random.shuffle(l)"
   ]
  },
  {
   "cell_type": "code",
   "execution_count": 47,
   "id": "c334fd65",
   "metadata": {},
   "outputs": [
    {
     "name": "stdout",
     "output_type": "stream",
     "text": [
      "[1052, 1791, 230, 1529, 1476, 1701, 368, 766, 1059, 1000, 1924, 166, 120, 1193, 399, 236, 1342, 139, 976, 33, 1443, 773, 723, 886, 1335, 208, 1411, 348, 1001, 938, 1970, 444, 1959, 1772, 430, 834, 1463, 1990, 1586, 698, 1320, 1366, 1305, 620, 1107, 947, 611, 1141, 573, 902, 628, 616, 1254, 51, 1152, 1595, 1326, 607, 1176, 1447, 316, 1146, 629, 992, 86, 756, 540, 1203, 910, 1865, 631, 1807, 1163, 1467, 1341, 1130, 141, 417, 874, 556, 675, 1610, 217, 1385, 1266, 1931, 1439, 1764, 559, 591, 1435, 269, 689, 117, 266, 619, 789, 115, 649, 1587, 47, 1997, 753, 578, 782, 431, 1703, 15, 999, 787, 1773, 1799, 12, 1016, 931, 1240, 546, 1460, 600, 697, 1325, 509, 126, 1017, 615, 871, 149, 176, 1737, 1932, 534, 1256, 1878, 1707, 1899, 1677, 346, 222, 935, 1588, 1444, 1880, 156, 1936, 1607, 994, 1041, 181, 475, 823, 436, 838, 247, 1440, 370, 504, 1267, 1892, 438, 1289, 513, 202, 133, 1225, 136, 610, 852, 912, 1314, 1316, 683, 246, 293, 178, 503, 1561, 1286, 1698, 495, 633, 1008, 978, 191, 1526, 1978, 1727, 1682, 1909, 194, 1983, 1422, 1481, 849, 421, 1083, 441, 1502, 71, 26, 1378, 581, 864, 954, 492, 681, 1190, 427, 997, 779, 602, 1886, 1036, 1557, 1274, 186, 1533, 1220, 2003, 1810, 419, 1432, 802, 283, 1257, 1195, 1814, 395, 4, 463, 733, 862, 814, 1269, 501, 891, 1653, 707, 1934, 1231, 1961, 1035, 1390, 1164, 1310, 748, 7, 1264, 985, 1189, 1666, 1560, 544, 1611, 1728, 1180, 1373, 847, 108, 1098, 1350, 1885, 292, 424, 118, 1580, 735, 288, 661, 1489, 70, 356, 46, 253, 1768, 653, 212, 1349, 1506, 1348, 478, 87, 1621, 1397, 1537, 1475, 342, 299, 980, 416, 480, 1738, 209, 50, 1824, 1559, 1838, 548, 831, 1117, 1735, 1940, 527, 552, 1073, 1282, 432, 1851, 461, 1446, 1954, 1821, 531, 1462, 353, 1648, 1637, 1567, 1251, 1836, 1456, 793, 894, 483, 1922, 1214, 385, 1962, 1027, 1381, 1034, 362, 1458, 1344, 755, 1868, 668, 888, 1972, 1770, 816, 404, 669, 1717, 1774, 425, 1014, 1197, 1620, 1575, 1708, 1330, 2002, 1198, 1480, 1534, 1919, 433, 557, 1731, 1285, 626, 1271, 1124, 1571, 589, 1109, 452, 807, 780, 466, 1889, 1800, 1075, 315, 123, 928, 1127, 1219, 1091, 1614, 286, 654, 1569, 458, 521, 965, 1431, 851, 2007, 1992, 1777, 1581, 1676, 2004, 574, 1857, 232, 1260, 189, 739, 1352, 1171, 1759, 734, 1403, 1412, 334, 680, 124, 1499, 1258, 275, 701, 963, 72, 1275, 1963, 184, 1816, 35, 1795, 1105, 1232, 104, 1294, 953, 1031, 533, 1887, 711, 1002, 487, 2009, 1095, 989, 870, 1150, 1523, 261, 1430, 796, 824, 1968, 172, 919, 235, 464, 660, 1201, 282, 915, 517, 1167, 1469, 300, 586, 470, 482, 832, 1692, 197, 747, 1600, 1005, 1606, 1340, 335, 1779, 1177, 666, 720, 1585, 695, 1813, 777, 523, 1291, 1013, 952, 258, 791, 1849, 1598, 1634, 322, 929, 991, 148, 1510, 1181, 1852, 970, 599, 392, 1781, 40, 361, 1956, 151, 1317, 1417, 840, 1900, 1518, 1979, 797, 1058, 857, 939, 1450, 1368, 1501, 1904, 279, 1825, 1743, 34, 1700, 1222, 84, 1252, 785, 1090, 1235, 1382, 386, 1202, 587, 1496, 1860, 1114, 1149, 1740, 267, 1579, 489, 1186, 752, 187, 426, 1212, 145, 1562, 618, 1353, 1084, 456, 203, 1901, 1953, 23, 207, 636, 1981, 1952, 1414, 2, 1009, 732, 1409, 344, 1292, 150, 652, 1173, 199, 833, 1681, 1512, 687, 1672, 772, 1033, 1894, 1988, 1788, 388, 32, 1080, 909, 1279, 664, 1625, 1079, 1113, 519, 446, 822, 861, 1888, 1138, 1445, 1004, 1448, 1923, 1563, 565, 107, 703, 1331, 1519, 966, 21, 1405, 1917, 1081, 1605, 1548, 1975, 845, 1433, 138, 61, 384, 1599, 1802, 617, 1750, 198, 1394, 1908, 746, 1976, 403, 343, 1718, 1915, 3, 6, 975, 383, 308, 1806, 1227, 1837, 412, 1853, 1619, 1175, 98, 988, 577, 1663, 302, 37, 1639, 1584, 323, 514, 1376, 297, 1841, 1321, 1418, 1578, 1298, 515, 45, 1914, 1363, 575, 1675, 1239, 57, 795, 1069, 159, 731, 1749, 1471, 1647, 1729, 1307, 576, 561, 477, 1022, 995, 1092, 842, 767, 95, 957, 1858, 859, 579, 973, 116, 259, 1896, 1881, 1594, 8, 218, 366, 195, 1263, 1419, 1658, 1066, 1848, 1933, 447, 1277, 955, 390, 284, 1942, 196, 1576, 1710, 1623, 1834, 1377, 1296, 1789, 106, 75, 1408, 11, 811, 360, 468, 1938, 58, 836, 101, 376, 1312, 769, 825, 358, 1051, 1678, 783, 562, 583, 1392, 254, 1680, 165, 1761, 936, 1484, 1874, 1864, 437, 1044, 656, 1329, 1986, 828, 1270, 710, 1955, 1713, 220, 135, 1994, 1504, 924, 85, 592, 690, 1401, 944, 1357, 1554, 277, 1509, 228, 1345, 1143, 1629, 1428, 1039, 448, 80, 1343, 657, 65, 1021, 903, 1324, 691, 1667, 303, 219, 646, 481, 567, 549, 1, 798, 1859, 641, 1861, 59, 743, 1156, 249, 1398, 121, 1960, 213, 866, 1153, 28, 554, 1847, 1552, 1747, 964, 821, 1155, 405, 1388, 1957, 1895, 634, 1488, 1338, 1893, 855, 1876, 153, 1855, 1491, 337, 423, 1608, 1410, 1538, 1355, 1577, 1351, 759, 718, 469, 1147, 1364, 1872, 1545, 1525, 93, 1705, 805, 494, 1974, 1911, 943, 693, 757, 1451, 762, 1154, 1733, 1522, 54, 1024, 1503, 958, 1946, 568, 338, 841, 722, 1665, 244, 1636, 580, 1958, 1879, 1690, 354, 1006, 908, 285, 893, 1065, 1516, 1670, 312, 295, 13, 949, 1103, 977, 1121, 1057, 1757, 1087, 663, 1441, 590, 672, 449, 131, 1268, 688, 625, 1415, 1290, 1830, 644, 526, 498, 1646, 917, 127, 863, 1183, 250, 595, 287, 162, 962, 1785, 443, 97, 352, 428, 1379, 1973, 673, 506, 655, 601, 1096, 330, 1243, 880, 336, 699, 1011, 326, 1583, 1064, 88, 1951, 1809, 111, 621, 349, 1535, 454, 1505, 305, 1964, 1334, 406, 1771, 69, 529, 201, 1132, 1660, 1387, 1589, 331, 1106, 60, 1393, 524, 1654, 488, 926, 916, 1047, 1074, 1097, 234, 471, 313, 1362, 1643, 1907, 327, 812, 564, 1591, 737, 479, 1319, 1246, 728, 1977, 132, 550, 2000, 1406, 606, 806, 298, 1457, 545, 1659, 1616, 696, 1926, 347, 1437, 1987, 1380, 906, 1758, 1472, 1873, 1685, 1360, 1745, 224, 904, 643, 709, 665, 1943, 1998, 1866, 708, 1760, 856, 1145, 1592, 1751, 1236, 1996, 1699, 1822, 1521, 1303, 776, 500, 365, 1494, 858, 742, 1347, 351, 810, 1890, 1843, 730, 820, 1948, 542, 1157, 525, 1172, 1223, 650, 1683, 1200, 961, 1869, 341, 520, 706, 1478, 317, 1722, 1076, 400, 168, 594, 505, 983, 1597, 941, 1128, 775, 319, 1720, 1116, 355, 715, 1158, 1315, 1293, 679, 1372, 1734, 1468, 1237, 1870, 1524, 637, 1891, 193, 1465, 1632, 1423, 1493, 541, 537, 1787, 2001, 18, 645, 434, 843, 445, 1556, 1123, 439, 724, 1048, 792, 1299, 786, 826, 1754, 1798, 1302, 1333, 1939, 309, 486, 1689, 877, 692, 490, 558, 48, 1792, 612, 1370, 1944, 560, 1793, 1950, 872, 1061, 30, 1854, 1304, 553, 763, 1541, 1356, 1668, 774, 1108, 129, 635, 555, 848, 1389, 455, 163, 1912, 1596, 1162, 1191, 42, 1995, 885, 1486, 1882, 1635, 281, 933, 1763, 959, 1831, 1028, 1217, 170, 1920, 1916, 1067, 996, 2008, 238, 401, 596, 667, 512, 1228, 379, 923, 1755, 155, 1532, 890, 1038, 1652, 925, 1336, 1487, 1187, 530, 1603, 765, 1396, 1003, 950, 1384, 1783, 1528, 1327, 1517, 982, 813, 1060, 684, 800, 1283, 409, 993, 237, 296, 200, 375, 1346, 99, 686, 647, 109, 179, 622, 1229, 630, 1464, 2005, 1927, 158, 1884, 134, 485, 887, 52, 1365, 1383, 329, 968, 736, 754, 1023, 1741, 1655, 22, 784, 473, 608, 1833, 1306, 1947, 289, 1546, 467, 604, 66, 451, 1937, 1040, 1971, 1449, 143, 1549, 716, 1208, 1280, 1482, 1490, 532, 1426, 1144, 682, 89, 221, 1250, 1420, 1131, 472, 1687, 623, 1808, 1644, 1520, 1273, 1617, 1706, 420, 830, 140, 1627, 462, 911, 105, 1565, 1790, 1323, 942, 1174, 1564, 613, 1148, 1999, 1165, 1539, 1045, 518, 1367, 1371, 49, 1318, 1829, 53, 1100, 1531, 1442, 818, 1969, 639, 1166, 1050, 1711, 1811, 956, 25, 77, 248, 1618, 1358, 1980, 969, 272, 1015, 240, 905, 310, 984, 1077, 241, 394, 1466, 1840, 1867, 1086, 1812, 1309, 1913, 1179, 278, 1805, 585, 764, 273, 378, 306, 1297, 62, 260, 1721, 502, 1063, 1253, 1135, 819, 1601, 1328, 252, 714, 1716, 214, 875, 1776, 1945, 1568, 325, 1221, 1664, 68, 895, 1624, 1211, 396, 1416, 64, 1354, 854, 1139, 1500, 363, 1337, 128, 760, 440, 1218, 1910, 1903, 1043, 1248, 1818, 563, 702, 242, 1099, 829, 1550, 1815, 359, 1247, 369, 1622, 1863, 794, 1030, 1391, 1272, 1898, 1756, 1846, 536, 1007, 1656, 1638, 318, 1540, 972, 56, 1407, 357, 510, 1513, 1194, 1693, 1249, 1210, 10, 1752, 182, 1778, 627, 1984, 1213, 1140, 946, 137, 865, 907, 1765, 1985, 700, 717, 1604, 1072, 1902, 125, 869, 878, 1070, 256, 1835, 839, 1536, 91, 1832, 16, 1474, 1429, 1570, 1071, 157, 1651, 1374, 1508, 883, 990, 971, 658, 382, 1242, 1845, 1782, 90, 674, 429, 102, 1078, 1650, 457, 1012, 614, 913, 1151, 1133, 484, 43, 422, 593, 38, 1136, 588, 809, 2006, 453, 817, 1369, 1702, 160, 1686, 1169, 1102, 474, 1281, 96, 1313, 1209, 1339, 749, 788, 1492, 1122, 226, 450, 876, 1905, 381, 1766, 1485, 815, 1628, 1055, 648, 1301, 321, 651, 1612, 1704, 1941, 1507, 948, 442, 1527, 582, 1626, 750, 1602, 1010, 873, 713, 371, 397, 1842, 1188, 188, 921, 1794, 1514, 1827, 1769, 1199, 122, 9, 1691, 164, 804, 1125, 231, 1375, 373, 571, 1780, 726, 271, 1671, 239, 934, 1207, 76, 223, 662, 642, 981, 1542, 1615, 460, 311, 1042, 1215, 413, 1029, 1178, 280, 499, 328, 0, 572, 932, 609, 741, 1185, 339, 1206, 493, 1993, 781, 1120, 927, 55, 350, 940, 771, 39, 522, 1288, 1817, 304, 215, 1322, 1395, 538, 1736, 1261, 1400, 1112, 1688, 1553, 1967, 1796, 268, 1062, 152, 79, 1453, 1265, 1753, 844, 389, 345, 174, 1875, 1530, 1918, 24, 161, 1712, 694, 1797, 119, 1082, 262, 570, 1674, 1192, 81, 1662, 738, 1784, 1245, 1929, 410, 113, 1697, 435, 83, 92, 301, 19, 1582, 185, 227, 1233, 333, 1631, 1551, 1255, 508, 1452, 314, 1989, 790, 1828, 1641, 551, 671, 1262, 1161, 1049, 1762, 1204, 340, 1085, 307, 922, 1182, 1547, 1495, 17, 67, 1748, 1719, 721, 112, 1826, 725, 1642, 516, 1928, 1126, 415, 1590, 1511, 1497, 263, 1844, 846, 291, 1287, 251, 605, 1695, 1786, 1438, 1025, 1573, 1399, 380, 1742, 967, 367, 402, 678, 1801, 1026, 1119, 899, 535, 951, 979, 496, 1819, 459, 1308, 211, 937, 1434, 1669, 173, 1311, 192, 142, 1436, 1216, 1991, 1425, 229, 569, 758, 1241, 597, 761, 154, 1454, 1427, 884, 1205, 1359, 1018, 1820, 74, 808, 414, 1459, 1230, 930, 1649, 640, 233, 20, 1856, 29, 803, 882, 1633, 1613, 1054, 290, 914, 1276, 1093, 1111, 114, 1572, 1115, 465, 1775, 1732, 889, 167, 407, 1640, 320, 1925, 897, 1609, 1101, 704, 920, 566, 1555, 598, 1714, 257, 255, 727, 1709, 705, 987, 497, 898, 130, 1965, 100, 171, 491, 1726, 1877, 1477, 110, 1679, 1871, 1224, 1020, 1226, 712, 827, 1684, 1804, 1479, 1657, 1019, 1160, 1544, 960, 659, 1593, 1402, 1730, 270, 1630, 63, 393, 1094, 1558, 892, 1295, 543, 778, 1184, 1300, 169, 36, 243, 82, 1284, 945, 860, 372, 1966, 1046, 1361, 1332, 1170, 751, 507, 1244, 1037, 1234, 1696, 584, 511, 177, 276, 879, 547, 1862, 719, 476, 225, 632, 216, 1053, 1883, 1724, 1746, 837, 180, 918, 745, 901, 1483, 1906, 677, 638, 44, 1498, 264, 1088, 1930, 1238, 1949, 896, 850, 94, 175, 398, 1196, 332, 1056, 31, 744, 1259, 374, 1421, 408, 1723, 685, 418, 1413, 144, 1839, 1574, 265, 1823, 986, 14, 1118, 528, 391, 853, 729, 801, 78, 603, 387, 183, 1473, 1404, 835, 1515, 1803, 190, 1694, 1645, 364, 868, 1159, 245, 881, 274, 147, 1129, 294, 324, 770, 799, 539, 1715, 1897, 676, 1134, 900, 768, 1850, 5, 974, 1168, 103, 210, 1921, 1470, 41, 1386, 1673, 377, 1278, 146, 1661, 1110, 1566, 1455, 1089, 1739, 205, 1068, 27, 1104, 1461, 1137, 1935, 204, 1543, 1744, 670, 624, 411, 1982, 1767, 740, 1032, 73, 1424, 1142, 998, 1725, 206, 867]\n"
     ]
    }
   ],
   "source": [
    "print(l)"
   ]
  },
  {
   "cell_type": "code",
   "execution_count": 48,
   "id": "63eaedf9",
   "metadata": {},
   "outputs": [],
   "source": [
    "df_shuffled=df.iloc[l]"
   ]
  },
  {
   "cell_type": "code",
   "execution_count": 49,
   "id": "2bc67bd2",
   "metadata": {},
   "outputs": [
    {
     "data": {
      "text/html": [
       "<div>\n",
       "<style scoped>\n",
       "    .dataframe tbody tr th:only-of-type {\n",
       "        vertical-align: middle;\n",
       "    }\n",
       "\n",
       "    .dataframe tbody tr th {\n",
       "        vertical-align: top;\n",
       "    }\n",
       "\n",
       "    .dataframe thead th {\n",
       "        text-align: right;\n",
       "    }\n",
       "</style>\n",
       "<table border=\"1\" class=\"dataframe\">\n",
       "  <thead>\n",
       "    <tr style=\"text-align: right;\">\n",
       "      <th></th>\n",
       "      <th>TARGET</th>\n",
       "      <th>AMT_INCOME_TOTAL</th>\n",
       "      <th>DAYS_BIRTH</th>\n",
       "      <th>DAYS_EMPLOYED</th>\n",
       "      <th>NUM_CODE_GENDER</th>\n",
       "      <th>CODE_OWN_CAR</th>\n",
       "      <th>CODE_OWN_REALTY</th>\n",
       "      <th>CODE_CNT_CHILDREN</th>\n",
       "      <th>CODE_NAME_EDUCATION_TYPE</th>\n",
       "      <th>CODENAME_FAMILY_STATUS</th>\n",
       "      <th>CODE_NAME_HOUSING_TYPE</th>\n",
       "      <th>CODE_FLAG_MOBIL</th>\n",
       "      <th>CODE_WORK_PHONE</th>\n",
       "      <th>CODE_FLAG_PHONE</th>\n",
       "      <th>CODE_EMAIL</th>\n",
       "      <th>CODE_JOB</th>\n",
       "      <th>CODE_STATUS</th>\n",
       "    </tr>\n",
       "  </thead>\n",
       "  <tbody>\n",
       "    <tr>\n",
       "      <th>1052</th>\n",
       "      <td>0</td>\n",
       "      <td>144000.0</td>\n",
       "      <td>-15394</td>\n",
       "      <td>-2959</td>\n",
       "      <td>0</td>\n",
       "      <td>1</td>\n",
       "      <td>1</td>\n",
       "      <td>2</td>\n",
       "      <td>4</td>\n",
       "      <td>1</td>\n",
       "      <td>1</td>\n",
       "      <td>0</td>\n",
       "      <td>0</td>\n",
       "      <td>1</td>\n",
       "      <td>0</td>\n",
       "      <td>3</td>\n",
       "      <td>6</td>\n",
       "    </tr>\n",
       "    <tr>\n",
       "      <th>1791</th>\n",
       "      <td>1</td>\n",
       "      <td>135000.0</td>\n",
       "      <td>-10660</td>\n",
       "      <td>-1935</td>\n",
       "      <td>0</td>\n",
       "      <td>0</td>\n",
       "      <td>1</td>\n",
       "      <td>2</td>\n",
       "      <td>1</td>\n",
       "      <td>3</td>\n",
       "      <td>2</td>\n",
       "      <td>0</td>\n",
       "      <td>0</td>\n",
       "      <td>0</td>\n",
       "      <td>0</td>\n",
       "      <td>3</td>\n",
       "      <td>3</td>\n",
       "    </tr>\n",
       "    <tr>\n",
       "      <th>230</th>\n",
       "      <td>0</td>\n",
       "      <td>135000.0</td>\n",
       "      <td>-17579</td>\n",
       "      <td>-1904</td>\n",
       "      <td>0</td>\n",
       "      <td>0</td>\n",
       "      <td>1</td>\n",
       "      <td>2</td>\n",
       "      <td>4</td>\n",
       "      <td>3</td>\n",
       "      <td>1</td>\n",
       "      <td>0</td>\n",
       "      <td>1</td>\n",
       "      <td>0</td>\n",
       "      <td>0</td>\n",
       "      <td>8</td>\n",
       "      <td>6</td>\n",
       "    </tr>\n",
       "    <tr>\n",
       "      <th>1529</th>\n",
       "      <td>1</td>\n",
       "      <td>270000.0</td>\n",
       "      <td>-16896</td>\n",
       "      <td>-248</td>\n",
       "      <td>1</td>\n",
       "      <td>0</td>\n",
       "      <td>1</td>\n",
       "      <td>2</td>\n",
       "      <td>4</td>\n",
       "      <td>3</td>\n",
       "      <td>1</td>\n",
       "      <td>0</td>\n",
       "      <td>0</td>\n",
       "      <td>0</td>\n",
       "      <td>0</td>\n",
       "      <td>8</td>\n",
       "      <td>4</td>\n",
       "    </tr>\n",
       "    <tr>\n",
       "      <th>1476</th>\n",
       "      <td>1</td>\n",
       "      <td>121500.0</td>\n",
       "      <td>-18971</td>\n",
       "      <td>-8161</td>\n",
       "      <td>0</td>\n",
       "      <td>0</td>\n",
       "      <td>1</td>\n",
       "      <td>2</td>\n",
       "      <td>4</td>\n",
       "      <td>1</td>\n",
       "      <td>1</td>\n",
       "      <td>0</td>\n",
       "      <td>0</td>\n",
       "      <td>0</td>\n",
       "      <td>0</td>\n",
       "      <td>10</td>\n",
       "      <td>5</td>\n",
       "    </tr>\n",
       "  </tbody>\n",
       "</table>\n",
       "</div>"
      ],
      "text/plain": [
       "      TARGET  AMT_INCOME_TOTAL  DAYS_BIRTH  DAYS_EMPLOYED  NUM_CODE_GENDER  \\\n",
       "1052       0          144000.0      -15394          -2959                0   \n",
       "1791       1          135000.0      -10660          -1935                0   \n",
       "230        0          135000.0      -17579          -1904                0   \n",
       "1529       1          270000.0      -16896           -248                1   \n",
       "1476       1          121500.0      -18971          -8161                0   \n",
       "\n",
       "      CODE_OWN_CAR  CODE_OWN_REALTY  CODE_CNT_CHILDREN  \\\n",
       "1052             1                1                  2   \n",
       "1791             0                1                  2   \n",
       "230              0                1                  2   \n",
       "1529             0                1                  2   \n",
       "1476             0                1                  2   \n",
       "\n",
       "      CODE_NAME_EDUCATION_TYPE  CODENAME_FAMILY_STATUS  \\\n",
       "1052                         4                       1   \n",
       "1791                         1                       3   \n",
       "230                          4                       3   \n",
       "1529                         4                       3   \n",
       "1476                         4                       1   \n",
       "\n",
       "      CODE_NAME_HOUSING_TYPE  CODE_FLAG_MOBIL  CODE_WORK_PHONE  \\\n",
       "1052                       1                0                0   \n",
       "1791                       2                0                0   \n",
       "230                        1                0                1   \n",
       "1529                       1                0                0   \n",
       "1476                       1                0                0   \n",
       "\n",
       "      CODE_FLAG_PHONE  CODE_EMAIL  CODE_JOB  CODE_STATUS  \n",
       "1052                1           0         3            6  \n",
       "1791                0           0         3            3  \n",
       "230                 0           0         8            6  \n",
       "1529                0           0         8            4  \n",
       "1476                0           0        10            5  "
      ]
     },
     "execution_count": 49,
     "metadata": {},
     "output_type": "execute_result"
    }
   ],
   "source": [
    "df_shuffled.head()"
   ]
  },
  {
   "cell_type": "code",
   "execution_count": 50,
   "id": "9533261e",
   "metadata": {},
   "outputs": [],
   "source": [
    "nrows = df_shuffled.shape[0]"
   ]
  },
  {
   "cell_type": "code",
   "execution_count": 51,
   "id": "284c60d3",
   "metadata": {},
   "outputs": [
    {
     "name": "stdout",
     "output_type": "stream",
     "text": [
      "2010\n"
     ]
    }
   ],
   "source": [
    "print(nrows)"
   ]
  },
  {
   "cell_type": "code",
   "execution_count": 52,
   "id": "7b379726",
   "metadata": {},
   "outputs": [],
   "source": [
    "ntrain=int(0.7*nrows)"
   ]
  },
  {
   "cell_type": "code",
   "execution_count": 53,
   "id": "b110e646",
   "metadata": {},
   "outputs": [
    {
     "name": "stdout",
     "output_type": "stream",
     "text": [
      "1407\n"
     ]
    }
   ],
   "source": [
    "print(ntrain)"
   ]
  },
  {
   "cell_type": "code",
   "execution_count": 54,
   "id": "1ba9110e",
   "metadata": {},
   "outputs": [],
   "source": [
    "df_train=df_shuffled[:ntrain]"
   ]
  },
  {
   "cell_type": "code",
   "execution_count": 55,
   "id": "2dbac676",
   "metadata": {},
   "outputs": [],
   "source": [
    "df_test=df_shuffled[ntrain:]"
   ]
  },
  {
   "cell_type": "code",
   "execution_count": 56,
   "id": "4d8546be",
   "metadata": {},
   "outputs": [
    {
     "name": "stdout",
     "output_type": "stream",
     "text": [
      "TARGET                        int64\n",
      "AMT_INCOME_TOTAL            float64\n",
      "DAYS_BIRTH                    int64\n",
      "DAYS_EMPLOYED                 int64\n",
      "NUM_CODE_GENDER                int8\n",
      "CODE_OWN_CAR                   int8\n",
      "CODE_OWN_REALTY                int8\n",
      "CODE_CNT_CHILDREN              int8\n",
      "CODE_NAME_EDUCATION_TYPE       int8\n",
      "CODENAME_FAMILY_STATUS         int8\n",
      "CODE_NAME_HOUSING_TYPE         int8\n",
      "CODE_FLAG_MOBIL                int8\n",
      "CODE_WORK_PHONE                int8\n",
      "CODE_FLAG_PHONE                int8\n",
      "CODE_EMAIL                     int8\n",
      "CODE_JOB                       int8\n",
      "CODE_STATUS                    int8\n",
      "dtype: object\n"
     ]
    }
   ],
   "source": [
    "df_train.shape[0]\n",
    "print(df_train.dtypes)"
   ]
  },
  {
   "cell_type": "code",
   "execution_count": 57,
   "id": "2ec1e857",
   "metadata": {},
   "outputs": [
    {
     "data": {
      "text/plain": [
       "603"
      ]
     },
     "execution_count": 57,
     "metadata": {},
     "output_type": "execute_result"
    }
   ],
   "source": [
    "df_test.shape[0]"
   ]
  },
  {
   "cell_type": "code",
   "execution_count": 58,
   "id": "7e73fa03",
   "metadata": {},
   "outputs": [],
   "source": [
    "#df_train_res, y_train_res = over_sampler.fit_resample(df_train, y_train)"
   ]
  },
  {
   "cell_type": "code",
   "execution_count": 59,
   "id": "0f62c52d",
   "metadata": {},
   "outputs": [],
   "source": [
    "import sagemaker\n",
    "from sagemaker import get_execution_role\n",
    "import json\n",
    "import boto3\n",
    "import nltk\n",
    "import sklearn\n",
    "from sklearn.feature_extraction.text import CountVectorizer"
   ]
  },
  {
   "cell_type": "code",
   "execution_count": 60,
   "id": "d9615283",
   "metadata": {},
   "outputs": [],
   "source": [
    "df_train.to_csv('predict_train.csv', index=False, header=False)"
   ]
  },
  {
   "cell_type": "code",
   "execution_count": 61,
   "id": "31abd968",
   "metadata": {},
   "outputs": [],
   "source": [
    "df_test.to_csv('predict_test.csv', index=False, header=False)"
   ]
  },
  {
   "cell_type": "code",
   "execution_count": 62,
   "id": "5a331425",
   "metadata": {},
   "outputs": [],
   "source": [
    "bucket='sagemaker-creditcardapproval'"
   ]
  },
  {
   "cell_type": "code",
   "execution_count": 63,
   "id": "41e949cb",
   "metadata": {},
   "outputs": [],
   "source": [
    "folder = 'predict'"
   ]
  },
  {
   "cell_type": "code",
   "execution_count": 64,
   "id": "854136c9",
   "metadata": {},
   "outputs": [],
   "source": [
    "train_channel = folder+'/train'"
   ]
  },
  {
   "cell_type": "code",
   "execution_count": 65,
   "id": "48695581",
   "metadata": {},
   "outputs": [],
   "source": [
    "validation_channel = folder+'/validation'"
   ]
  },
  {
   "cell_type": "code",
   "execution_count": 66,
   "id": "ee112d09",
   "metadata": {},
   "outputs": [],
   "source": [
    "sess = sagemaker.Session()"
   ]
  },
  {
   "cell_type": "code",
   "execution_count": 67,
   "id": "5698aecd",
   "metadata": {},
   "outputs": [
    {
     "data": {
      "text/plain": [
       "'s3://sagemaker-creditcardapproval/predict/train/predict_train.csv'"
      ]
     },
     "execution_count": 67,
     "metadata": {},
     "output_type": "execute_result"
    }
   ],
   "source": [
    "sess.upload_data(path='predict_train.csv', bucket=bucket, key_prefix=train_channel)"
   ]
  },
  {
   "cell_type": "code",
   "execution_count": 68,
   "id": "4b14b8ba",
   "metadata": {},
   "outputs": [
    {
     "data": {
      "text/plain": [
       "'s3://sagemaker-creditcardapproval/predict/validation/predict_test.csv'"
      ]
     },
     "execution_count": 68,
     "metadata": {},
     "output_type": "execute_result"
    }
   ],
   "source": [
    "sess.upload_data(path='predict_test.csv', bucket=bucket, key_prefix=validation_channel)"
   ]
  },
  {
   "cell_type": "code",
   "execution_count": 69,
   "id": "6fac8e15",
   "metadata": {},
   "outputs": [],
   "source": [
    "s3_train_data='s3://{}/{}'.format(bucket,train_channel)"
   ]
  },
  {
   "cell_type": "code",
   "execution_count": 70,
   "id": "2044584a",
   "metadata": {},
   "outputs": [
    {
     "data": {
      "text/plain": [
       "'s3://sagemaker-creditcardapproval/predict/train'"
      ]
     },
     "execution_count": 70,
     "metadata": {},
     "output_type": "execute_result"
    }
   ],
   "source": [
    "s3_train_data"
   ]
  },
  {
   "cell_type": "code",
   "execution_count": 71,
   "id": "af0f641b",
   "metadata": {},
   "outputs": [],
   "source": [
    "s3_test_data='s3://{}/{}'.format(bucket,validation_channel)"
   ]
  },
  {
   "cell_type": "code",
   "execution_count": 72,
   "id": "3a009013",
   "metadata": {},
   "outputs": [
    {
     "data": {
      "text/plain": [
       "'s3://sagemaker-creditcardapproval/predict/validation'"
      ]
     },
     "execution_count": 72,
     "metadata": {},
     "output_type": "execute_result"
    }
   ],
   "source": [
    "s3_test_data"
   ]
  },
  {
   "cell_type": "code",
   "execution_count": 73,
   "id": "0b46ca66",
   "metadata": {},
   "outputs": [],
   "source": [
    "s3_output_location='s3://{}/{}'.format(bucket,folder)"
   ]
  },
  {
   "cell_type": "code",
   "execution_count": 74,
   "id": "01b95ae9",
   "metadata": {},
   "outputs": [
    {
     "data": {
      "text/plain": [
       "'s3://sagemaker-creditcardapproval/predict'"
      ]
     },
     "execution_count": 74,
     "metadata": {},
     "output_type": "execute_result"
    }
   ],
   "source": [
    "s3_output_location"
   ]
  },
  {
   "cell_type": "code",
   "execution_count": 75,
   "id": "4d6571d9",
   "metadata": {},
   "outputs": [],
   "source": [
    "containers = {'us-west-2': '433757028032.dkr.ecr.us-west-2.amazonaws.com/xgboost:latest',\n",
    "              'us-east-1': '811284229777.dkr.ecr.us-east-1.amazonaws.com/xgboost:latest',\n",
    "              'us-east-2': '825641698319.dkr.ecr.us-east-2.amazonaws.com/xgboost:latest',\n",
    "              'eu-west-1': '685385470294.dkr.ecr.eu-west-1.amazonaws.com/xgboost:latest'}\n"
   ]
  },
  {
   "cell_type": "code",
   "execution_count": 76,
   "id": "0ba28abc",
   "metadata": {},
   "outputs": [],
   "source": [
    "role=get_execution_role()"
   ]
  },
  {
   "cell_type": "code",
   "execution_count": 77,
   "id": "99bee769",
   "metadata": {},
   "outputs": [],
   "source": [
    "estimator = sagemaker.estimator.Estimator(containers[boto3.Session().region_name],\n",
    "                                       role, \n",
    "                                       instance_count=1, \n",
    "                                       instance_type='ml.m4.xlarge',\n",
    "                                       volume_size=5,\n",
    "                                       output_path=s3_output_location,\n",
    "                                       sagemaker_session=sess,\n",
    "                                       base_job_name ='predict-v1')\n"
   ]
  },
  {
   "cell_type": "code",
   "execution_count": 78,
   "id": "35d242b4",
   "metadata": {},
   "outputs": [],
   "source": [
    "estimator.set_hyperparameters(\n",
    "    max_depth = 5,\n",
    "    eta = 0.2,\n",
    "    gamma = 4,\n",
    "    subsample = 0.7,\n",
    "    objective = \"binary:logistic\",\n",
    "    num_round = 100\n",
    ")\n"
   ]
  },
  {
   "cell_type": "code",
   "execution_count": 79,
   "id": "cf146c69",
   "metadata": {},
   "outputs": [],
   "source": [
    "training_input_config = sagemaker.inputs.TrainingInput(s3_data=s3_train_data,content_type=\"csv\")\n",
    "validation_input_config = sagemaker.inputs.TrainingInput(s3_data=s3_test_data,content_type=\"csv\")\n"
   ]
  },
  {
   "cell_type": "code",
   "execution_count": 80,
   "id": "669ae429",
   "metadata": {},
   "outputs": [
    {
     "name": "stdout",
     "output_type": "stream",
     "text": [
      "2022-06-16 07:58:10 Starting - Starting the training job...ProfilerReport-1655366289: InProgress\n",
      "...\n",
      "2022-06-16 07:58:58 Starting - Preparing the instances for training.........\n",
      "2022-06-16 08:00:23 Downloading - Downloading input data...\n",
      "2022-06-16 08:01:03 Training - Downloading the training image......\n",
      "2022-06-16 08:02:11 Uploading - Uploading generated training model\u001b[34mArguments: train\u001b[0m\n",
      "\u001b[34m[2022-06-16:08:02:04:INFO] Running standalone xgboost training.\u001b[0m\n",
      "\u001b[34m[2022-06-16:08:02:04:INFO] File size need to be processed in the node: 0.1mb. Available memory size in the node: 8425.54mb\u001b[0m\n",
      "\u001b[34m[2022-06-16:08:02:04:INFO] Determined delimiter of CSV input is ','\u001b[0m\n",
      "\u001b[34m[08:02:04] S3DistributionType set as FullyReplicated\u001b[0m\n",
      "\u001b[34m[08:02:04] 1407x16 matrix with 22512 entries loaded from /opt/ml/input/data/train?format=csv&label_column=0&delimiter=,\u001b[0m\n",
      "\u001b[34m[2022-06-16:08:02:04:INFO] Determined delimiter of CSV input is ','\u001b[0m\n",
      "\u001b[34m[08:02:04] S3DistributionType set as FullyReplicated\u001b[0m\n",
      "\u001b[34m[08:02:04] 603x16 matrix with 9648 entries loaded from /opt/ml/input/data/validation?format=csv&label_column=0&delimiter=,\u001b[0m\n",
      "\u001b[34m[08:02:04] src/tree/updater_prune.cc:74: tree pruning end, 1 roots, 4 extra nodes, 0 pruned nodes, max_depth=2\u001b[0m\n",
      "\u001b[34m[0]#011train-error:0#011validation-error:0\u001b[0m\n",
      "\u001b[34m[1]#011train-error:0#011validation-error:0\u001b[0m\n",
      "\u001b[34m[08:02:04] src/tree/updater_prune.cc:74: tree pruning end, 1 roots, 4 extra nodes, 0 pruned nodes, max_depth=2\u001b[0m\n",
      "\u001b[34m[08:02:04] src/tree/updater_prune.cc:74: tree pruning end, 1 roots, 4 extra nodes, 0 pruned nodes, max_depth=2\u001b[0m\n",
      "\u001b[34m[08:02:04] src/tree/updater_prune.cc:74: tree pruning end, 1 roots, 4 extra nodes, 0 pruned nodes, max_depth=2\u001b[0m\n",
      "\u001b[34m[08:02:04] src/tree/updater_prune.cc:74: tree pruning end, 1 roots, 4 extra nodes, 0 pruned nodes, max_depth=2\u001b[0m\n",
      "\u001b[34m[2]#011train-error:0#011validation-error:0\u001b[0m\n",
      "\u001b[34m[3]#011train-error:0#011validation-error:0\u001b[0m\n",
      "\u001b[34m[4]#011train-error:0#011validation-error:0\u001b[0m\n",
      "\u001b[34m[08:02:04] src/tree/updater_prune.cc:74: tree pruning end, 1 roots, 4 extra nodes, 0 pruned nodes, max_depth=2\u001b[0m\n",
      "\u001b[34m[5]#011train-error:0#011validation-error:0\u001b[0m\n",
      "\u001b[34m[08:02:04] src/tree/updater_prune.cc:74: tree pruning end, 1 roots, 4 extra nodes, 0 pruned nodes, max_depth=2\u001b[0m\n",
      "\u001b[34m[6]#011train-error:0#011validation-error:0\u001b[0m\n",
      "\u001b[34m[08:02:04] src/tree/updater_prune.cc:74: tree pruning end, 1 roots, 4 extra nodes, 0 pruned nodes, max_depth=2\u001b[0m\n",
      "\u001b[34m[7]#011train-error:0#011validation-error:0\u001b[0m\n",
      "\u001b[34m[08:02:04] src/tree/updater_prune.cc:74: tree pruning end, 1 roots, 4 extra nodes, 0 pruned nodes, max_depth=2\u001b[0m\n",
      "\u001b[34m[8]#011train-error:0#011validation-error:0\u001b[0m\n",
      "\u001b[34m[08:02:04] src/tree/updater_prune.cc:74: tree pruning end, 1 roots, 4 extra nodes, 0 pruned nodes, max_depth=2\u001b[0m\n",
      "\u001b[34m[9]#011train-error:0#011validation-error:0\u001b[0m\n",
      "\u001b[34m[08:02:04] src/tree/updater_prune.cc:74: tree pruning end, 1 roots, 4 extra nodes, 0 pruned nodes, max_depth=2\u001b[0m\n",
      "\u001b[34m[10]#011train-error:0#011validation-error:0\u001b[0m\n",
      "\u001b[34m[08:02:04] src/tree/updater_prune.cc:74: tree pruning end, 1 roots, 4 extra nodes, 0 pruned nodes, max_depth=2\u001b[0m\n",
      "\u001b[34m[11]#011train-error:0#011validation-error:0\u001b[0m\n",
      "\u001b[34m[08:02:04] src/tree/updater_prune.cc:74: tree pruning end, 1 roots, 4 extra nodes, 0 pruned nodes, max_depth=2\u001b[0m\n",
      "\u001b[34m[12]#011train-error:0#011validation-error:0\u001b[0m\n",
      "\u001b[34m[08:02:04] src/tree/updater_prune.cc:74: tree pruning end, 1 roots, 4 extra nodes, 0 pruned nodes, max_depth=2\u001b[0m\n",
      "\u001b[34m[13]#011train-error:0#011validation-error:0\u001b[0m\n",
      "\u001b[34m[08:02:04] src/tree/updater_prune.cc:74: tree pruning end, 1 roots, 4 extra nodes, 0 pruned nodes, max_depth=2\u001b[0m\n",
      "\u001b[34m[14]#011train-error:0#011validation-error:0\u001b[0m\n",
      "\u001b[34m[08:02:04] src/tree/updater_prune.cc:74: tree pruning end, 1 roots, 4 extra nodes, 0 pruned nodes, max_depth=2\u001b[0m\n",
      "\u001b[34m[15]#011train-error:0#011validation-error:0\u001b[0m\n",
      "\u001b[34m[08:02:04] src/tree/updater_prune.cc:74: tree pruning end, 1 roots, 4 extra nodes, 0 pruned nodes, max_depth=2\u001b[0m\n",
      "\u001b[34m[16]#011train-error:0#011validation-error:0\u001b[0m\n",
      "\u001b[34m[08:02:04] src/tree/updater_prune.cc:74: tree pruning end, 1 roots, 4 extra nodes, 0 pruned nodes, max_depth=2\u001b[0m\n",
      "\u001b[34m[08:02:04] src/tree/updater_prune.cc:74: tree pruning end, 1 roots, 4 extra nodes, 0 pruned nodes, max_depth=2\u001b[0m\n",
      "\u001b[34m[08:02:04] src/tree/updater_prune.cc:74: tree pruning end, 1 roots, 4 extra nodes, 0 pruned nodes, max_depth=2\u001b[0m\n",
      "\u001b[34m[08:02:04] src/tree/updater_prune.cc:74: tree pruning end, 1 roots, 4 extra nodes, 0 pruned nodes, max_depth=2\u001b[0m\n",
      "\u001b[34m[08:02:04] src/tree/updater_prune.cc:74: tree pruning end, 1 roots, 4 extra nodes, 0 pruned nodes, max_depth=2\u001b[0m\n",
      "\u001b[34m[17]#011train-error:0#011validation-error:0\u001b[0m\n",
      "\u001b[34m[18]#011train-error:0#011validation-error:0\u001b[0m\n",
      "\u001b[34m[19]#011train-error:0#011validation-error:0\u001b[0m\n",
      "\u001b[34m[20]#011train-error:0#011validation-error:0\u001b[0m\n",
      "\u001b[34m[21]#011train-error:0#011validation-error:0\u001b[0m\n",
      "\u001b[34m[08:02:04] src/tree/updater_prune.cc:74: tree pruning end, 1 roots, 0 extra nodes, 4 pruned nodes, max_depth=0\u001b[0m\n",
      "\u001b[34m[22]#011train-error:0#011validation-error:0\u001b[0m\n",
      "\u001b[34m[08:02:04] src/tree/updater_prune.cc:74: tree pruning end, 1 roots, 0 extra nodes, 4 pruned nodes, max_depth=0\u001b[0m\n",
      "\u001b[34m[23]#011train-error:0#011validation-error:0\u001b[0m\n",
      "\u001b[34m[08:02:04] src/tree/updater_prune.cc:74: tree pruning end, 1 roots, 0 extra nodes, 4 pruned nodes, max_depth=0\u001b[0m\n",
      "\u001b[34m[24]#011train-error:0#011validation-error:0\u001b[0m\n",
      "\u001b[34m[08:02:04] src/tree/updater_prune.cc:74: tree pruning end, 1 roots, 0 extra nodes, 4 pruned nodes, max_depth=0\u001b[0m\n",
      "\u001b[34m[25]#011train-error:0#011validation-error:0\u001b[0m\n",
      "\u001b[34m[08:02:04] src/tree/updater_prune.cc:74: tree pruning end, 1 roots, 0 extra nodes, 4 pruned nodes, max_depth=0\u001b[0m\n",
      "\u001b[34m[26]#011train-error:0#011validation-error:0\u001b[0m\n",
      "\u001b[34m[08:02:04] src/tree/updater_prune.cc:74: tree pruning end, 1 roots, 0 extra nodes, 4 pruned nodes, max_depth=0\u001b[0m\n",
      "\u001b[34m[27]#011train-error:0#011validation-error:0\u001b[0m\n",
      "\u001b[34m[08:02:04] src/tree/updater_prune.cc:74: tree pruning end, 1 roots, 0 extra nodes, 4 pruned nodes, max_depth=0\u001b[0m\n",
      "\u001b[34m[28]#011train-error:0#011validation-error:0\u001b[0m\n",
      "\u001b[34m[08:02:04] src/tree/updater_prune.cc:74: tree pruning end, 1 roots, 0 extra nodes, 4 pruned nodes, max_depth=0\u001b[0m\n",
      "\u001b[34m[29]#011train-error:0#011validation-error:0\u001b[0m\n",
      "\u001b[34m[08:02:04] src/tree/updater_prune.cc:74: tree pruning end, 1 roots, 0 extra nodes, 4 pruned nodes, max_depth=0\u001b[0m\n",
      "\u001b[34m[30]#011train-error:0#011validation-error:0\u001b[0m\n",
      "\u001b[34m[08:02:04] src/tree/updater_prune.cc:74: tree pruning end, 1 roots, 0 extra nodes, 4 pruned nodes, max_depth=0\u001b[0m\n",
      "\u001b[34m[31]#011train-error:0#011validation-error:0\u001b[0m\n",
      "\u001b[34m[08:02:04] src/tree/updater_prune.cc:74: tree pruning end, 1 roots, 0 extra nodes, 4 pruned nodes, max_depth=0\u001b[0m\n",
      "\u001b[34m[32]#011train-error:0#011validation-error:0\u001b[0m\n",
      "\u001b[34m[08:02:04] src/tree/updater_prune.cc:74: tree pruning end, 1 roots, 0 extra nodes, 4 pruned nodes, max_depth=0\u001b[0m\n",
      "\u001b[34m[33]#011train-error:0#011validation-error:0\u001b[0m\n",
      "\u001b[34m[08:02:04] src/tree/updater_prune.cc:74: tree pruning end, 1 roots, 0 extra nodes, 4 pruned nodes, max_depth=0\u001b[0m\n",
      "\u001b[34m[34]#011train-error:0#011validation-error:0\u001b[0m\n",
      "\u001b[34m[35]#011train-error:0#011validation-error:0\u001b[0m\n",
      "\u001b[34m[08:02:04] src/tree/updater_prune.cc:74: tree pruning end, 1 roots, 0 extra nodes, 4 pruned nodes, max_depth=0\u001b[0m\n",
      "\u001b[34m[08:02:04] src/tree/updater_prune.cc:74: tree pruning end, 1 roots, 0 extra nodes, 4 pruned nodes, max_depth=0\u001b[0m\n",
      "\u001b[34m[36]#011train-error:0#011validation-error:0\u001b[0m\n",
      "\u001b[34m[08:02:04] src/tree/updater_prune.cc:74: tree pruning end, 1 roots, 0 extra nodes, 4 pruned nodes, max_depth=0\u001b[0m\n",
      "\u001b[34m[37]#011train-error:0#011validation-error:0\u001b[0m\n",
      "\u001b[34m[08:02:04] src/tree/updater_prune.cc:74: tree pruning end, 1 roots, 0 extra nodes, 4 pruned nodes, max_depth=0\u001b[0m\n",
      "\u001b[34m[38]#011train-error:0#011validation-error:0\u001b[0m\n",
      "\u001b[34m[08:02:04] src/tree/updater_prune.cc:74: tree pruning end, 1 roots, 0 extra nodes, 4 pruned nodes, max_depth=0\u001b[0m\n",
      "\u001b[34m[39]#011train-error:0#011validation-error:0\u001b[0m\n",
      "\u001b[34m[08:02:04] src/tree/updater_prune.cc:74: tree pruning end, 1 roots, 0 extra nodes, 4 pruned nodes, max_depth=0\u001b[0m\n",
      "\u001b[34m[40]#011train-error:0#011validation-error:0\u001b[0m\n",
      "\u001b[34m[41]#011train-error:0#011validation-error:0\u001b[0m\n",
      "\u001b[34m[08:02:04] src/tree/updater_prune.cc:74: tree pruning end, 1 roots, 0 extra nodes, 4 pruned nodes, max_depth=0\u001b[0m\n",
      "\u001b[34m[08:02:04] src/tree/updater_prune.cc:74: tree pruning end, 1 roots, 0 extra nodes, 4 pruned nodes, max_depth=0\u001b[0m\n",
      "\u001b[34m[42]#011train-error:0#011validation-error:0\u001b[0m\n",
      "\u001b[34m[08:02:04] src/tree/updater_prune.cc:74: tree pruning end, 1 roots, 0 extra nodes, 4 pruned nodes, max_depth=0\u001b[0m\n",
      "\u001b[34m[43]#011train-error:0#011validation-error:0\u001b[0m\n",
      "\u001b[34m[08:02:04] src/tree/updater_prune.cc:74: tree pruning end, 1 roots, 0 extra nodes, 4 pruned nodes, max_depth=0\u001b[0m\n",
      "\u001b[34m[44]#011train-error:0#011validation-error:0\u001b[0m\n",
      "\u001b[34m[08:02:04] src/tree/updater_prune.cc:74: tree pruning end, 1 roots, 0 extra nodes, 4 pruned nodes, max_depth=0\u001b[0m\n",
      "\u001b[34m[45]#011train-error:0#011validation-error:0\u001b[0m\n",
      "\u001b[34m[08:02:04] src/tree/updater_prune.cc:74: tree pruning end, 1 roots, 0 extra nodes, 4 pruned nodes, max_depth=0\u001b[0m\n",
      "\u001b[34m[46]#011train-error:0#011validation-error:0\u001b[0m\n",
      "\u001b[34m[08:02:04] src/tree/updater_prune.cc:74: tree pruning end, 1 roots, 0 extra nodes, 4 pruned nodes, max_depth=0\u001b[0m\n",
      "\u001b[34m[47]#011train-error:0#011validation-error:0\u001b[0m\n",
      "\u001b[34m[08:02:04] src/tree/updater_prune.cc:74: tree pruning end, 1 roots, 0 extra nodes, 4 pruned nodes, max_depth=0\u001b[0m\n",
      "\u001b[34m[48]#011train-error:0#011validation-error:0\u001b[0m\n",
      "\u001b[34m[08:02:04] src/tree/updater_prune.cc:74: tree pruning end, 1 roots, 0 extra nodes, 4 pruned nodes, max_depth=0\u001b[0m\n",
      "\u001b[34m[49]#011train-error:0#011validation-error:0\u001b[0m\n",
      "\u001b[34m[08:02:04] src/tree/updater_prune.cc:74: tree pruning end, 1 roots, 0 extra nodes, 4 pruned nodes, max_depth=0\u001b[0m\n",
      "\u001b[34m[50]#011train-error:0#011validation-error:0\u001b[0m\n",
      "\u001b[34m[08:02:04] src/tree/updater_prune.cc:74: tree pruning end, 1 roots, 0 extra nodes, 4 pruned nodes, max_depth=0\u001b[0m\n",
      "\u001b[34m[51]#011train-error:0#011validation-error:0\u001b[0m\n",
      "\u001b[34m[08:02:04] src/tree/updater_prune.cc:74: tree pruning end, 1 roots, 0 extra nodes, 4 pruned nodes, max_depth=0\u001b[0m\n",
      "\u001b[34m[52]#011train-error:0#011validation-error:0\u001b[0m\n",
      "\u001b[34m[08:02:04] src/tree/updater_prune.cc:74: tree pruning end, 1 roots, 0 extra nodes, 4 pruned nodes, max_depth=0\u001b[0m\n",
      "\u001b[34m[53]#011train-error:0#011validation-error:0\u001b[0m\n",
      "\u001b[34m[08:02:04] src/tree/updater_prune.cc:74: tree pruning end, 1 roots, 0 extra nodes, 4 pruned nodes, max_depth=0\u001b[0m\n",
      "\u001b[34m[54]#011train-error:0#011validation-error:0\u001b[0m\n",
      "\u001b[34m[08:02:04] src/tree/updater_prune.cc:74: tree pruning end, 1 roots, 0 extra nodes, 4 pruned nodes, max_depth=0\u001b[0m\n",
      "\u001b[34m[55]#011train-error:0#011validation-error:0\u001b[0m\n",
      "\u001b[34m[08:02:04] src/tree/updater_prune.cc:74: tree pruning end, 1 roots, 0 extra nodes, 4 pruned nodes, max_depth=0\u001b[0m\n",
      "\u001b[34m[56]#011train-error:0#011validation-error:0\u001b[0m\n",
      "\u001b[34m[08:02:04] src/tree/updater_prune.cc:74: tree pruning end, 1 roots, 0 extra nodes, 4 pruned nodes, max_depth=0\u001b[0m\n",
      "\u001b[34m[57]#011train-error:0#011validation-error:0\u001b[0m\n",
      "\u001b[34m[08:02:04] src/tree/updater_prune.cc:74: tree pruning end, 1 roots, 0 extra nodes, 4 pruned nodes, max_depth=0\u001b[0m\n",
      "\u001b[34m[58]#011train-error:0#011validation-error:0\u001b[0m\n",
      "\u001b[34m[08:02:04] src/tree/updater_prune.cc:74: tree pruning end, 1 roots, 0 extra nodes, 4 pruned nodes, max_depth=0\u001b[0m\n",
      "\u001b[34m[59]#011train-error:0#011validation-error:0\u001b[0m\n",
      "\u001b[34m[08:02:04] src/tree/updater_prune.cc:74: tree pruning end, 1 roots, 0 extra nodes, 4 pruned nodes, max_depth=0\u001b[0m\n",
      "\u001b[34m[60]#011train-error:0#011validation-error:0\u001b[0m\n",
      "\u001b[34m[08:02:04] src/tree/updater_prune.cc:74: tree pruning end, 1 roots, 0 extra nodes, 4 pruned nodes, max_depth=0\u001b[0m\n",
      "\u001b[34m[61]#011train-error:0#011validation-error:0\u001b[0m\n",
      "\u001b[34m[08:02:04] src/tree/updater_prune.cc:74: tree pruning end, 1 roots, 0 extra nodes, 4 pruned nodes, max_depth=0\u001b[0m\n",
      "\u001b[34m[62]#011train-error:0#011validation-error:0\u001b[0m\n",
      "\u001b[34m[08:02:04] src/tree/updater_prune.cc:74: tree pruning end, 1 roots, 0 extra nodes, 4 pruned nodes, max_depth=0\u001b[0m\n",
      "\u001b[34m[63]#011train-error:0#011validation-error:0\u001b[0m\n",
      "\u001b[34m[08:02:04] src/tree/updater_prune.cc:74: tree pruning end, 1 roots, 0 extra nodes, 4 pruned nodes, max_depth=0\u001b[0m\n",
      "\u001b[34m[64]#011train-error:0#011validation-error:0\u001b[0m\n",
      "\u001b[34m[08:02:04] src/tree/updater_prune.cc:74: tree pruning end, 1 roots, 0 extra nodes, 4 pruned nodes, max_depth=0\u001b[0m\n",
      "\u001b[34m[65]#011train-error:0#011validation-error:0\u001b[0m\n",
      "\u001b[34m[08:02:04] src/tree/updater_prune.cc:74: tree pruning end, 1 roots, 0 extra nodes, 4 pruned nodes, max_depth=0\u001b[0m\n",
      "\u001b[34m[66]#011train-error:0#011validation-error:0\u001b[0m\n",
      "\u001b[34m[08:02:04] src/tree/updater_prune.cc:74: tree pruning end, 1 roots, 0 extra nodes, 4 pruned nodes, max_depth=0\u001b[0m\n",
      "\u001b[34m[67]#011train-error:0#011validation-error:0\u001b[0m\n",
      "\u001b[34m[08:02:04] src/tree/updater_prune.cc:74: tree pruning end, 1 roots, 0 extra nodes, 4 pruned nodes, max_depth=0\u001b[0m\n",
      "\u001b[34m[68]#011train-error:0#011validation-error:0\u001b[0m\n",
      "\u001b[34m[08:02:04] src/tree/updater_prune.cc:74: tree pruning end, 1 roots, 0 extra nodes, 4 pruned nodes, max_depth=0\u001b[0m\n",
      "\u001b[34m[69]#011train-error:0#011validation-error:0\u001b[0m\n",
      "\u001b[34m[08:02:04] src/tree/updater_prune.cc:74: tree pruning end, 1 roots, 0 extra nodes, 4 pruned nodes, max_depth=0\u001b[0m\n",
      "\u001b[34m[70]#011train-error:0#011validation-error:0\u001b[0m\n",
      "\u001b[34m[08:02:04] src/tree/updater_prune.cc:74: tree pruning end, 1 roots, 0 extra nodes, 4 pruned nodes, max_depth=0\u001b[0m\n",
      "\u001b[34m[71]#011train-error:0#011validation-error:0\u001b[0m\n",
      "\u001b[34m[08:02:04] src/tree/updater_prune.cc:74: tree pruning end, 1 roots, 0 extra nodes, 4 pruned nodes, max_depth=0\u001b[0m\n",
      "\u001b[34m[72]#011train-error:0#011validation-error:0\u001b[0m\n",
      "\u001b[34m[08:02:04] src/tree/updater_prune.cc:74: tree pruning end, 1 roots, 0 extra nodes, 4 pruned nodes, max_depth=0\u001b[0m\n",
      "\u001b[34m[73]#011train-error:0#011validation-error:0\u001b[0m\n",
      "\u001b[34m[08:02:04] src/tree/updater_prune.cc:74: tree pruning end, 1 roots, 0 extra nodes, 4 pruned nodes, max_depth=0\u001b[0m\n",
      "\u001b[34m[74]#011train-error:0#011validation-error:0\u001b[0m\n",
      "\u001b[34m[08:02:04] src/tree/updater_prune.cc:74: tree pruning end, 1 roots, 0 extra nodes, 4 pruned nodes, max_depth=0\u001b[0m\n",
      "\u001b[34m[75]#011train-error:0#011validation-error:0\u001b[0m\n",
      "\u001b[34m[08:02:04] src/tree/updater_prune.cc:74: tree pruning end, 1 roots, 0 extra nodes, 4 pruned nodes, max_depth=0\u001b[0m\n",
      "\u001b[34m[76]#011train-error:0#011validation-error:0\u001b[0m\n",
      "\u001b[34m[08:02:04] src/tree/updater_prune.cc:74: tree pruning end, 1 roots, 0 extra nodes, 4 pruned nodes, max_depth=0\u001b[0m\n",
      "\u001b[34m[77]#011train-error:0#011validation-error:0\u001b[0m\n",
      "\u001b[34m[08:02:04] src/tree/updater_prune.cc:74: tree pruning end, 1 roots, 0 extra nodes, 4 pruned nodes, max_depth=0\u001b[0m\n",
      "\u001b[34m[78]#011train-error:0#011validation-error:0\u001b[0m\n",
      "\u001b[34m[08:02:04] src/tree/updater_prune.cc:74: tree pruning end, 1 roots, 0 extra nodes, 4 pruned nodes, max_depth=0\u001b[0m\n",
      "\u001b[34m[79]#011train-error:0#011validation-error:0\u001b[0m\n",
      "\u001b[34m[08:02:04] src/tree/updater_prune.cc:74: tree pruning end, 1 roots, 0 extra nodes, 4 pruned nodes, max_depth=0\u001b[0m\n",
      "\u001b[34m[80]#011train-error:0#011validation-error:0\u001b[0m\n",
      "\u001b[34m[08:02:04] src/tree/updater_prune.cc:74: tree pruning end, 1 roots, 0 extra nodes, 4 pruned nodes, max_depth=0\u001b[0m\n",
      "\u001b[34m[81]#011train-error:0#011validation-error:0\u001b[0m\n",
      "\u001b[34m[08:02:04] src/tree/updater_prune.cc:74: tree pruning end, 1 roots, 0 extra nodes, 4 pruned nodes, max_depth=0\u001b[0m\n",
      "\u001b[34m[82]#011train-error:0#011validation-error:0\u001b[0m\n",
      "\u001b[34m[08:02:04] src/tree/updater_prune.cc:74: tree pruning end, 1 roots, 0 extra nodes, 4 pruned nodes, max_depth=0\u001b[0m\n",
      "\u001b[34m[83]#011train-error:0#011validation-error:0\u001b[0m\n",
      "\u001b[34m[08:02:04] src/tree/updater_prune.cc:74: tree pruning end, 1 roots, 0 extra nodes, 4 pruned nodes, max_depth=0\u001b[0m\n",
      "\u001b[34m[84]#011train-error:0#011validation-error:0\u001b[0m\n",
      "\u001b[34m[08:02:04] src/tree/updater_prune.cc:74: tree pruning end, 1 roots, 0 extra nodes, 4 pruned nodes, max_depth=0\u001b[0m\n",
      "\u001b[34m[85]#011train-error:0#011validation-error:0\u001b[0m\n",
      "\u001b[34m[08:02:04] src/tree/updater_prune.cc:74: tree pruning end, 1 roots, 0 extra nodes, 4 pruned nodes, max_depth=0\u001b[0m\n",
      "\u001b[34m[86]#011train-error:0#011validation-error:0\u001b[0m\n",
      "\u001b[34m[08:02:04] src/tree/updater_prune.cc:74: tree pruning end, 1 roots, 0 extra nodes, 4 pruned nodes, max_depth=0\u001b[0m\n",
      "\u001b[34m[87]#011train-error:0#011validation-error:0\u001b[0m\n",
      "\u001b[34m[08:02:04] src/tree/updater_prune.cc:74: tree pruning end, 1 roots, 0 extra nodes, 4 pruned nodes, max_depth=0\u001b[0m\n",
      "\u001b[34m[88]#011train-error:0#011validation-error:0\u001b[0m\n",
      "\u001b[34m[08:02:04] src/tree/updater_prune.cc:74: tree pruning end, 1 roots, 0 extra nodes, 4 pruned nodes, max_depth=0\u001b[0m\n",
      "\u001b[34m[89]#011train-error:0#011validation-error:0\u001b[0m\n",
      "\u001b[34m[08:02:04] src/tree/updater_prune.cc:74: tree pruning end, 1 roots, 0 extra nodes, 4 pruned nodes, max_depth=0\u001b[0m\n",
      "\u001b[34m[90]#011train-error:0#011validation-error:0\u001b[0m\n",
      "\u001b[34m[08:02:04] src/tree/updater_prune.cc:74: tree pruning end, 1 roots, 0 extra nodes, 4 pruned nodes, max_depth=0\u001b[0m\n",
      "\u001b[34m[91]#011train-error:0#011validation-error:0\u001b[0m\n",
      "\u001b[34m[08:02:04] src/tree/updater_prune.cc:74: tree pruning end, 1 roots, 0 extra nodes, 4 pruned nodes, max_depth=0\u001b[0m\n",
      "\u001b[34m[92]#011train-error:0#011validation-error:0\u001b[0m\n",
      "\u001b[34m[08:02:04] src/tree/updater_prune.cc:74: tree pruning end, 1 roots, 0 extra nodes, 4 pruned nodes, max_depth=0\u001b[0m\n",
      "\u001b[34m[93]#011train-error:0#011validation-error:0\u001b[0m\n",
      "\u001b[34m[08:02:04] src/tree/updater_prune.cc:74: tree pruning end, 1 roots, 0 extra nodes, 4 pruned nodes, max_depth=0\u001b[0m\n",
      "\u001b[34m[94]#011train-error:0#011validation-error:0\u001b[0m\n",
      "\u001b[34m[08:02:04] src/tree/updater_prune.cc:74: tree pruning end, 1 roots, 0 extra nodes, 4 pruned nodes, max_depth=0\u001b[0m\n",
      "\u001b[34m[95]#011train-error:0#011validation-error:0\u001b[0m\n",
      "\u001b[34m[08:02:04] src/tree/updater_prune.cc:74: tree pruning end, 1 roots, 0 extra nodes, 4 pruned nodes, max_depth=0\u001b[0m\n",
      "\u001b[34m[96]#011train-error:0#011validation-error:0\u001b[0m\n",
      "\u001b[34m[08:02:04] src/tree/updater_prune.cc:74: tree pruning end, 1 roots, 0 extra nodes, 4 pruned nodes, max_depth=0\u001b[0m\n",
      "\u001b[34m[97]#011train-error:0#011validation-error:0\u001b[0m\n",
      "\u001b[34m[08:02:04] src/tree/updater_prune.cc:74: tree pruning end, 1 roots, 0 extra nodes, 4 pruned nodes, max_depth=0\u001b[0m\n",
      "\u001b[34m[98]#011train-error:0#011validation-error:0\u001b[0m\n",
      "\u001b[34m[08:02:04] src/tree/updater_prune.cc:74: tree pruning end, 1 roots, 0 extra nodes, 4 pruned nodes, max_depth=0\u001b[0m\n",
      "\u001b[34m[99]#011train-error:0#011validation-error:0\u001b[0m\n",
      "\n",
      "2022-06-16 08:02:23 Completed - Training job completed\n",
      "Training seconds: 128\n",
      "Billable seconds: 128\n"
     ]
    }
   ],
   "source": [
    "estimator.fit({'train':training_input_config, 'validation':validation_input_config})"
   ]
  },
  {
   "cell_type": "code",
   "execution_count": 81,
   "id": "03bbc603",
   "metadata": {},
   "outputs": [
    {
     "data": {
      "text/html": [
       "<div>\n",
       "<style scoped>\n",
       "    .dataframe tbody tr th:only-of-type {\n",
       "        vertical-align: middle;\n",
       "    }\n",
       "\n",
       "    .dataframe tbody tr th {\n",
       "        vertical-align: top;\n",
       "    }\n",
       "\n",
       "    .dataframe thead th {\n",
       "        text-align: right;\n",
       "    }\n",
       "</style>\n",
       "<table border=\"1\" class=\"dataframe\">\n",
       "  <thead>\n",
       "    <tr style=\"text-align: right;\">\n",
       "      <th></th>\n",
       "      <th>TARGET</th>\n",
       "      <th>AMT_INCOME_TOTAL</th>\n",
       "      <th>DAYS_BIRTH</th>\n",
       "      <th>DAYS_EMPLOYED</th>\n",
       "      <th>NUM_CODE_GENDER</th>\n",
       "      <th>CODE_OWN_CAR</th>\n",
       "      <th>CODE_OWN_REALTY</th>\n",
       "      <th>CODE_CNT_CHILDREN</th>\n",
       "      <th>CODE_NAME_EDUCATION_TYPE</th>\n",
       "      <th>CODENAME_FAMILY_STATUS</th>\n",
       "      <th>CODE_NAME_HOUSING_TYPE</th>\n",
       "      <th>CODE_FLAG_MOBIL</th>\n",
       "      <th>CODE_WORK_PHONE</th>\n",
       "      <th>CODE_FLAG_PHONE</th>\n",
       "      <th>CODE_EMAIL</th>\n",
       "      <th>CODE_JOB</th>\n",
       "      <th>CODE_STATUS</th>\n",
       "    </tr>\n",
       "  </thead>\n",
       "  <tbody>\n",
       "    <tr>\n",
       "      <th>count</th>\n",
       "      <td>2010.000000</td>\n",
       "      <td>2010.000000</td>\n",
       "      <td>2010.000000</td>\n",
       "      <td>2010.000000</td>\n",
       "      <td>2010.000000</td>\n",
       "      <td>2010.000000</td>\n",
       "      <td>2010.000000</td>\n",
       "      <td>2010.000000</td>\n",
       "      <td>2010.000000</td>\n",
       "      <td>2010.000000</td>\n",
       "      <td>2010.000000</td>\n",
       "      <td>2010.0</td>\n",
       "      <td>2010.000000</td>\n",
       "      <td>2010.000000</td>\n",
       "      <td>2010.000000</td>\n",
       "      <td>2010.000000</td>\n",
       "      <td>2010.000000</td>\n",
       "    </tr>\n",
       "    <tr>\n",
       "      <th>mean</th>\n",
       "      <td>0.478607</td>\n",
       "      <td>199934.912687</td>\n",
       "      <td>-15190.153731</td>\n",
       "      <td>-2321.482587</td>\n",
       "      <td>0.455224</td>\n",
       "      <td>0.447761</td>\n",
       "      <td>0.659701</td>\n",
       "      <td>1.358706</td>\n",
       "      <td>2.976617</td>\n",
       "      <td>1.370647</td>\n",
       "      <td>1.297512</td>\n",
       "      <td>0.0</td>\n",
       "      <td>0.314428</td>\n",
       "      <td>0.346766</td>\n",
       "      <td>0.096020</td>\n",
       "      <td>7.765174</td>\n",
       "      <td>3.982587</td>\n",
       "    </tr>\n",
       "    <tr>\n",
       "      <th>std</th>\n",
       "      <td>0.499666</td>\n",
       "      <td>103037.053264</td>\n",
       "      <td>3392.476834</td>\n",
       "      <td>2169.281636</td>\n",
       "      <td>0.498115</td>\n",
       "      <td>0.497387</td>\n",
       "      <td>0.473927</td>\n",
       "      <td>0.869931</td>\n",
       "      <td>1.388981</td>\n",
       "      <td>0.914696</td>\n",
       "      <td>0.969440</td>\n",
       "      <td>0.0</td>\n",
       "      <td>0.464403</td>\n",
       "      <td>0.476059</td>\n",
       "      <td>0.294692</td>\n",
       "      <td>4.248688</td>\n",
       "      <td>2.391539</td>\n",
       "    </tr>\n",
       "    <tr>\n",
       "      <th>min</th>\n",
       "      <td>0.000000</td>\n",
       "      <td>36000.000000</td>\n",
       "      <td>-23844.000000</td>\n",
       "      <td>-14473.000000</td>\n",
       "      <td>0.000000</td>\n",
       "      <td>0.000000</td>\n",
       "      <td>0.000000</td>\n",
       "      <td>0.000000</td>\n",
       "      <td>0.000000</td>\n",
       "      <td>0.000000</td>\n",
       "      <td>0.000000</td>\n",
       "      <td>0.0</td>\n",
       "      <td>0.000000</td>\n",
       "      <td>0.000000</td>\n",
       "      <td>0.000000</td>\n",
       "      <td>0.000000</td>\n",
       "      <td>0.000000</td>\n",
       "    </tr>\n",
       "    <tr>\n",
       "      <th>25%</th>\n",
       "      <td>0.000000</td>\n",
       "      <td>135000.000000</td>\n",
       "      <td>-18092.250000</td>\n",
       "      <td>-3296.000000</td>\n",
       "      <td>0.000000</td>\n",
       "      <td>0.000000</td>\n",
       "      <td>0.000000</td>\n",
       "      <td>0.000000</td>\n",
       "      <td>1.000000</td>\n",
       "      <td>1.000000</td>\n",
       "      <td>1.000000</td>\n",
       "      <td>0.0</td>\n",
       "      <td>0.000000</td>\n",
       "      <td>0.000000</td>\n",
       "      <td>0.000000</td>\n",
       "      <td>4.000000</td>\n",
       "      <td>2.000000</td>\n",
       "    </tr>\n",
       "    <tr>\n",
       "      <th>50%</th>\n",
       "      <td>0.000000</td>\n",
       "      <td>180000.000000</td>\n",
       "      <td>-15231.000000</td>\n",
       "      <td>-1575.500000</td>\n",
       "      <td>0.000000</td>\n",
       "      <td>0.000000</td>\n",
       "      <td>1.000000</td>\n",
       "      <td>2.000000</td>\n",
       "      <td>4.000000</td>\n",
       "      <td>1.000000</td>\n",
       "      <td>1.000000</td>\n",
       "      <td>0.0</td>\n",
       "      <td>0.000000</td>\n",
       "      <td>0.000000</td>\n",
       "      <td>0.000000</td>\n",
       "      <td>8.000000</td>\n",
       "      <td>5.000000</td>\n",
       "    </tr>\n",
       "    <tr>\n",
       "      <th>75%</th>\n",
       "      <td>1.000000</td>\n",
       "      <td>245250.000000</td>\n",
       "      <td>-12370.500000</td>\n",
       "      <td>-804.000000</td>\n",
       "      <td>1.000000</td>\n",
       "      <td>1.000000</td>\n",
       "      <td>1.000000</td>\n",
       "      <td>2.000000</td>\n",
       "      <td>4.000000</td>\n",
       "      <td>1.000000</td>\n",
       "      <td>1.000000</td>\n",
       "      <td>0.0</td>\n",
       "      <td>1.000000</td>\n",
       "      <td>1.000000</td>\n",
       "      <td>0.000000</td>\n",
       "      <td>10.000000</td>\n",
       "      <td>6.000000</td>\n",
       "    </tr>\n",
       "    <tr>\n",
       "      <th>max</th>\n",
       "      <td>1.000000</td>\n",
       "      <td>900000.000000</td>\n",
       "      <td>-8316.000000</td>\n",
       "      <td>-65.000000</td>\n",
       "      <td>1.000000</td>\n",
       "      <td>1.000000</td>\n",
       "      <td>1.000000</td>\n",
       "      <td>2.000000</td>\n",
       "      <td>4.000000</td>\n",
       "      <td>4.000000</td>\n",
       "      <td>5.000000</td>\n",
       "      <td>0.0</td>\n",
       "      <td>1.000000</td>\n",
       "      <td>1.000000</td>\n",
       "      <td>1.000000</td>\n",
       "      <td>17.000000</td>\n",
       "      <td>7.000000</td>\n",
       "    </tr>\n",
       "  </tbody>\n",
       "</table>\n",
       "</div>"
      ],
      "text/plain": [
       "            TARGET  AMT_INCOME_TOTAL    DAYS_BIRTH  DAYS_EMPLOYED  \\\n",
       "count  2010.000000       2010.000000   2010.000000    2010.000000   \n",
       "mean      0.478607     199934.912687 -15190.153731   -2321.482587   \n",
       "std       0.499666     103037.053264   3392.476834    2169.281636   \n",
       "min       0.000000      36000.000000 -23844.000000  -14473.000000   \n",
       "25%       0.000000     135000.000000 -18092.250000   -3296.000000   \n",
       "50%       0.000000     180000.000000 -15231.000000   -1575.500000   \n",
       "75%       1.000000     245250.000000 -12370.500000    -804.000000   \n",
       "max       1.000000     900000.000000  -8316.000000     -65.000000   \n",
       "\n",
       "       NUM_CODE_GENDER  CODE_OWN_CAR  CODE_OWN_REALTY  CODE_CNT_CHILDREN  \\\n",
       "count      2010.000000   2010.000000      2010.000000        2010.000000   \n",
       "mean          0.455224      0.447761         0.659701           1.358706   \n",
       "std           0.498115      0.497387         0.473927           0.869931   \n",
       "min           0.000000      0.000000         0.000000           0.000000   \n",
       "25%           0.000000      0.000000         0.000000           0.000000   \n",
       "50%           0.000000      0.000000         1.000000           2.000000   \n",
       "75%           1.000000      1.000000         1.000000           2.000000   \n",
       "max           1.000000      1.000000         1.000000           2.000000   \n",
       "\n",
       "       CODE_NAME_EDUCATION_TYPE  CODENAME_FAMILY_STATUS  \\\n",
       "count               2010.000000             2010.000000   \n",
       "mean                   2.976617                1.370647   \n",
       "std                    1.388981                0.914696   \n",
       "min                    0.000000                0.000000   \n",
       "25%                    1.000000                1.000000   \n",
       "50%                    4.000000                1.000000   \n",
       "75%                    4.000000                1.000000   \n",
       "max                    4.000000                4.000000   \n",
       "\n",
       "       CODE_NAME_HOUSING_TYPE  CODE_FLAG_MOBIL  CODE_WORK_PHONE  \\\n",
       "count             2010.000000           2010.0      2010.000000   \n",
       "mean                 1.297512              0.0         0.314428   \n",
       "std                  0.969440              0.0         0.464403   \n",
       "min                  0.000000              0.0         0.000000   \n",
       "25%                  1.000000              0.0         0.000000   \n",
       "50%                  1.000000              0.0         0.000000   \n",
       "75%                  1.000000              0.0         1.000000   \n",
       "max                  5.000000              0.0         1.000000   \n",
       "\n",
       "       CODE_FLAG_PHONE   CODE_EMAIL     CODE_JOB  CODE_STATUS  \n",
       "count      2010.000000  2010.000000  2010.000000  2010.000000  \n",
       "mean          0.346766     0.096020     7.765174     3.982587  \n",
       "std           0.476059     0.294692     4.248688     2.391539  \n",
       "min           0.000000     0.000000     0.000000     0.000000  \n",
       "25%           0.000000     0.000000     4.000000     2.000000  \n",
       "50%           0.000000     0.000000     8.000000     5.000000  \n",
       "75%           1.000000     0.000000    10.000000     6.000000  \n",
       "max           1.000000     1.000000    17.000000     7.000000  "
      ]
     },
     "metadata": {},
     "output_type": "display_data"
    },
    {
     "data": {
      "image/png": "[encoded data removed]",
      "text/plain": [
       "<Figure size 1440x720 with 20 Axes>"
      ]
     },
     "metadata": {
      "needs_background": "light"
     },
     "output_type": "display_data"
    }
   ],
   "source": [
    "display(df.describe())\n",
    "hist = df.hist(bins=30, sharey=True, figsize=(20, 10))"
   ]
  },
  {
   "cell_type": "code",
   "execution_count": 82,
   "id": "b42dd254",
   "metadata": {},
   "outputs": [
    {
     "name": "stdout",
     "output_type": "stream",
     "text": [
      "---------!"
     ]
    }
   ],
   "source": [
    "predictor = estimator.deploy(initial_instance_count = 1,\n",
    "                            instance_type = \"ml.t2.medium\",\n",
    "                            endpoint_name = \"ep-creditcard2\")\n"
   ]
  },
  {
   "cell_type": "code",
   "execution_count": null,
   "id": "0b81b138",
   "metadata": {},
   "outputs": [],
   "source": []
  },
  {
   "cell_type": "code",
   "execution_count": null,
   "id": "be8b1bde",
   "metadata": {},
   "outputs": [],
   "source": []
  }
 ],
 "metadata": {
  "kernelspec": {
   "display_name": "conda_python3",
   "language": "python",
   "name": "conda_python3"
  },
  "language_info": {
   "codemirror_mode": {
    "name": "ipython",
    "version": 3
   },
   "file_extension": ".py",
   "mimetype": "text/x-python",
   "name": "python",
   "nbconvert_exporter": "python",
   "pygments_lexer": "ipython3",
   "version": "3.6.13"
  }
 },
 "nbformat": 4,
 "nbformat_minor": 5
}
